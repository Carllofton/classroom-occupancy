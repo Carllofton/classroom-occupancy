{
 "cells": [
  {
   "cell_type": "code",
   "execution_count": null,
   "metadata": {},
   "outputs": [],
   "source": [
    "import pandas as pd\n",
    "import numpy as np\n",
    "import COPP_Utils\n",
    "\n",
    "%matplotlib inline"
   ]
  },
  {
   "cell_type": "code",
   "execution_count": null,
   "metadata": {},
   "outputs": [],
   "source": [
    "# load different datasets for future append\n",
    "sen = pd.read_csv('sensor_data.csv', parse_dates=True, index_col='datetime')\n",
    "occ = pd.read_csv('occupancy_data.csv', parse_dates=True, index_col='datetime')\n",
    "imgs = pd.read_csv('image_variations.csv', parse_dates=True, index_col='datetime')\n",
    "door = pd.read_csv('door_data.csv', parse_dates=True, index_col='datetime', dtype={'door_status':'category'})\n",
    "\n",
    "# deleting irrelevant columns\n",
    "# be sure to remove columns that will be duplicated when concatenating (such as location)\n",
    "del sen['location']\n",
    "del sen['loc_CO2']\n",
    "# it was demonstrated that 'bluetooth_devices' and 'bluetooth_non_personal_devices'\n",
    "# are highly correlated so we can delete the latter one.\n",
    "del sen['bluetooth_non_personal_devices']\n",
    "#renaming occupancy count to a proper name\n",
    "occ.count_total.name = 'occupancy_count'\n",
    "occ = occ['count_total']\n",
    "#renaming image histogram change to a proper name\n",
    "imgs.rolling_rms.name = 'image_hist_change'\n",
    "imgs = imgs['rolling_rms']\n",
    "# drop door DateTimeIndex duplicates, keeping last seen: As two\n",
    "# events may occur in the same second (door quickly opening and\n",
    "# closing), this database may contain \"duplicated\" datetimes.\n",
    "door['datetime'] = door.index\n",
    "door.drop_duplicates(subset='datetime', keep='last', inplace=True)\n",
    "door = door['door_status']"
   ]
  },
  {
   "cell_type": "code",
   "execution_count": null,
   "metadata": {},
   "outputs": [],
   "source": [
    "# Clean up outliers from sensor data:\n",
    "\n",
    "# Delete -999 values from temperature\n",
    "print(\"before temp outliers removal:\", len(sen))\n",
    "sen = sen[sen.temperature != -999]\n",
    "print(\"after temp outliers removal:\", len(sen))\n",
    "\n",
    "# Delete 2 values from co2\n",
    "print(\"----\\nbefore co2 outliers removal:\", len(sen))\n",
    "sen = sen[sen.co2 != 2]\n",
    "print(\"after co2 outliers removal:\", len(sen))"
   ]
  },
  {
   "cell_type": "code",
   "execution_count": null,
   "metadata": {
    "collapsed": true
   },
   "outputs": [],
   "source": [
    "# interpolate sensor missing-data gaps (using 'pchip' method)\n",
    "sen = COPP_Utils.interpolateByDay(sen)"
   ]
  },
  {
   "cell_type": "code",
   "execution_count": null,
   "metadata": {},
   "outputs": [],
   "source": [
    "# Adding extra features to sensors:\n",
    "\n",
    "# temperature in Farenheit degrees\n",
    "sen['temperature_f'] = 9.0/5.0 * sen.temperature + 32\n",
    "\n",
    "# light switch on and off, selected threshold: <700 is on, otherwise is off\n",
    "sen['light_status'] = (sen.loc[:,'light'] < 700).astype(int)\n",
    "\n",
    "#reorganizing columns\n",
    "cols = sen.columns\n",
    "sen = sen[['temperature', \n",
    "           'temperature_f', \n",
    "           'humidity', 'co2', 'light', \n",
    "           'light_status',\n",
    "           'noise', 'bluetooth_devices']]"
   ]
  },
  {
   "cell_type": "code",
   "execution_count": null,
   "metadata": {},
   "outputs": [],
   "source": [
    "# first append image comparison feature ('rolling_rms')\n",
    "extended_set = COPP_Utils.appendFeature(sen, imgs, 'temperature')\n",
    "# cases where the initial rolling_rms is zero, can beset to NaN and then bfilled\n",
    "extended_set.image_hist_change[extended_set.image_hist_change == 0] = np.nan\n",
    "extended_set.image_hist_change = extended_set.image_hist_change.bfill()\n",
    "\n",
    "extended_set.head(3)"
   ]
  },
  {
   "cell_type": "code",
   "execution_count": null,
   "metadata": {},
   "outputs": [],
   "source": [
    "# next, append door information.\n",
    "extended_set = COPP_Utils.appendFeature(extended_set, door, 'temperature', 'closed')\n",
    "\n",
    "extended_set.head(3)"
   ]
  },
  {
   "cell_type": "code",
   "execution_count": null,
   "metadata": {},
   "outputs": [],
   "source": [
    "# finally, appending Y\n",
    "dataset = COPP_Utils.appendFeature(extended_set, occ, 'temperature', 0)\n",
    "dataset.head(3)"
   ]
  },
  {
   "cell_type": "code",
   "execution_count": null,
   "metadata": {},
   "outputs": [],
   "source": [
    "# calculating extra Y, using bins:\n",
    "#0 - 8: Very Low occupation\n",
    "#9 - 15: Low occupation\n",
    "#16 - 24: Fair Occupation\n",
    "#25 - 31 (maximum observed so far): High Occupation\n",
    "\n",
    "bins = [-1, 8, 15, 24, 31]\n",
    "group_names = ['very-low', 'low', 'fair', 'high']\n",
    "dataset['occupancy_category'] = pd.cut(dataset.occupancy_count, bins, labels=group_names)\n",
    "dataset.head()\n",
    "\n",
    "# set light status as category at this point (doing it before raised a SettingWithCopyWarning)\n",
    "dataset.light_status = (dataset.light_status > 0).apply(lambda x: 'light-on' if x else 'light-off').astype('category')\n",
    "\n",
    "#DATASET READY:\n",
    "dataset.head()"
   ]
  },
  {
   "cell_type": "code",
   "execution_count": null,
   "metadata": {},
   "outputs": [],
   "source": [
    "dataset['20170325'].plot(figsize=(16,14))"
   ]
  },
  {
   "cell_type": "code",
   "execution_count": null,
   "metadata": {},
   "outputs": [],
   "source": [
    "# generating minute-by-minute version\n",
    "dataset_1M = interpolateByDay(dataset, 'T')\n",
    "dataset_1M"
   ]
  },
  {
   "cell_type": "code",
   "execution_count": null,
   "metadata": {
    "collapsed": true
   },
   "outputs": [],
   "source": [
    "# export datasets\n",
    "dataset.to_csv('dataset-5sec.csv')\n",
    "dataset_1M.to_csv('dataset-1min.csv')"
   ]
  }
 ],
 "metadata": {
  "kernelspec": {
   "display_name": "Python 3",
   "language": "python",
   "name": "python3"
  },
  "language_info": {
   "codemirror_mode": {
    "name": "ipython",
    "version": 3
   },
   "file_extension": ".py",
   "mimetype": "text/x-python",
   "name": "python",
   "nbconvert_exporter": "python",
   "pygments_lexer": "ipython3",
   "version": "3.5.2"
  }
 },
 "nbformat": 4,
 "nbformat_minor": 2
}
