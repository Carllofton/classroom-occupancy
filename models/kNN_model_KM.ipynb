{
 "cells": [
  {
   "cell_type": "markdown",
   "metadata": {},
   "source": [
    "# KNN Model\n",
    "\n",
    "### Dataset Information\n",
    "No. of Features: 12   \n",
    "No. of Instances: 4492"
   ]
  },
  {
   "cell_type": "markdown",
   "metadata": {},
   "source": [
    "## Table of Contents<a name='table of contents'></a>\n",
    "\n",
    "1. [Data Ingestion](#data ingestion)\n",
    "2. [Features & Target Arrays](#features and target arrays)\n",
    "3. [Hyperparameter Tuning](#hyperparameter tuning)  \n",
    "    a. [Model Complexity Curve](#model complexity curve)  \n",
    "    b. [GridSearchCV](#gridsearchcv)\n",
    "4. [Classification Report](#classification report)\n",
    "5. [Confusion Matrix](#confusion matrix)\n",
    "6. [Class Balance](#class balance)\n",
    "7. [Save Model](#pickle)"
   ]
  },
  {
   "cell_type": "code",
   "execution_count": 1,
   "metadata": {
    "collapsed": true
   },
   "outputs": [],
   "source": [
    "%matplotlib inline\n",
    "\n",
    "import os\n",
    "import json\n",
    "import time\n",
    "import pickle\n",
    "import requests\n",
    "import numpy as np\n",
    "import pandas as pd\n",
    "\n",
    "import seaborn as sns\n",
    "import matplotlib.pyplot as plt\n",
    "import yellowbrick as yb\n",
    "sns.set_palette('RdBu', 10)"
   ]
  },
  {
   "cell_type": "markdown",
   "metadata": {},
   "source": [
    "## Data Ingestion<a name='data ingestion'></a>"
   ]
  },
  {
   "cell_type": "code",
   "execution_count": 2,
   "metadata": {
    "collapsed": true
   },
   "outputs": [],
   "source": [
    "URL = 'https://raw.githubusercontent.com/georgetown-analytics/classroom-occupancy/master/models/sensor_data_ml.csv'\n",
    "\n",
    "def fetch_data(fname='sensor_data_ml.csv'):\n",
    "    response = requests.get(URL)\n",
    "    outpath  = os.path.abspath(fname)\n",
    "    with open(outpath, 'wb') as f:\n",
    "        f.write(response.content)\n",
    "    \n",
    "    return outpath\n",
    "\n",
    "# Defining fetching data from the URL\n",
    "DATA = fetch_data()"
   ]
  },
  {
   "cell_type": "code",
   "execution_count": 3,
   "metadata": {
    "collapsed": true
   },
   "outputs": [],
   "source": [
    "# Import sensor data\n",
    "df = pd.read_csv('sensor_data_ml.csv', index_col='datetime', parse_dates=True)"
   ]
  },
  {
   "cell_type": "code",
   "execution_count": 4,
   "metadata": {
    "collapsed": true
   },
   "outputs": [],
   "source": [
    "# Rename columns\n",
    "df.columns = ['temp', 'humidity', 'co2', 'light', 'light_st', 'noise',\n",
    "              'bluetooth', 'images', 'door', 'occupancy_count', 'occupancy_level']"
   ]
  },
  {
   "cell_type": "code",
   "execution_count": 5,
   "metadata": {},
   "outputs": [
    {
     "name": "stdout",
     "output_type": "stream",
     "text": [
      "<class 'pandas.core.frame.DataFrame'>\n",
      "DatetimeIndex: 4492 entries, 2017-03-25 09:05:00 to 2017-06-10 16:47:00\n",
      "Data columns (total 11 columns):\n",
      "temp               4492 non-null float64\n",
      "humidity           4492 non-null float64\n",
      "co2                4492 non-null float64\n",
      "light              4492 non-null float64\n",
      "light_st           4492 non-null float64\n",
      "noise              4492 non-null float64\n",
      "bluetooth          4492 non-null float64\n",
      "images             4492 non-null float64\n",
      "door               4492 non-null float64\n",
      "occupancy_count    4492 non-null float64\n",
      "occupancy_level    4492 non-null object\n",
      "dtypes: float64(10), object(1)\n",
      "memory usage: 421.1+ KB\n"
     ]
    },
    {
     "data": {
      "text/html": [
       "<div>\n",
       "<style>\n",
       "    .dataframe thead tr:only-child th {\n",
       "        text-align: right;\n",
       "    }\n",
       "\n",
       "    .dataframe thead th {\n",
       "        text-align: left;\n",
       "    }\n",
       "\n",
       "    .dataframe tbody tr th {\n",
       "        vertical-align: top;\n",
       "    }\n",
       "</style>\n",
       "<table border=\"1\" class=\"dataframe\">\n",
       "  <thead>\n",
       "    <tr style=\"text-align: right;\">\n",
       "      <th></th>\n",
       "      <th>temp</th>\n",
       "      <th>humidity</th>\n",
       "      <th>co2</th>\n",
       "      <th>light</th>\n",
       "      <th>light_st</th>\n",
       "      <th>noise</th>\n",
       "      <th>bluetooth</th>\n",
       "      <th>images</th>\n",
       "      <th>door</th>\n",
       "      <th>occupancy_count</th>\n",
       "    </tr>\n",
       "  </thead>\n",
       "  <tbody>\n",
       "    <tr>\n",
       "      <th>count</th>\n",
       "      <td>4492.000000</td>\n",
       "      <td>4492.000000</td>\n",
       "      <td>4492.000000</td>\n",
       "      <td>4492.000000</td>\n",
       "      <td>4492.000000</td>\n",
       "      <td>4492.000000</td>\n",
       "      <td>4492.000000</td>\n",
       "      <td>4492.000000</td>\n",
       "      <td>4492.000000</td>\n",
       "      <td>4492.000000</td>\n",
       "    </tr>\n",
       "    <tr>\n",
       "      <th>mean</th>\n",
       "      <td>23.130643</td>\n",
       "      <td>39.474289</td>\n",
       "      <td>1235.613327</td>\n",
       "      <td>414.313558</td>\n",
       "      <td>0.900749</td>\n",
       "      <td>292.690467</td>\n",
       "      <td>219.644525</td>\n",
       "      <td>13.397958</td>\n",
       "      <td>0.184636</td>\n",
       "      <td>23.934357</td>\n",
       "    </tr>\n",
       "    <tr>\n",
       "      <th>std</th>\n",
       "      <td>1.401324</td>\n",
       "      <td>6.480433</td>\n",
       "      <td>182.745597</td>\n",
       "      <td>530.373407</td>\n",
       "      <td>0.295897</td>\n",
       "      <td>175.343505</td>\n",
       "      <td>139.619955</td>\n",
       "      <td>5.640015</td>\n",
       "      <td>0.357883</td>\n",
       "      <td>9.981144</td>\n",
       "    </tr>\n",
       "    <tr>\n",
       "      <th>min</th>\n",
       "      <td>21.000000</td>\n",
       "      <td>21.100000</td>\n",
       "      <td>653.000000</td>\n",
       "      <td>138.294355</td>\n",
       "      <td>0.000000</td>\n",
       "      <td>30.777778</td>\n",
       "      <td>0.000000</td>\n",
       "      <td>1.982398</td>\n",
       "      <td>0.000000</td>\n",
       "      <td>0.000000</td>\n",
       "    </tr>\n",
       "    <tr>\n",
       "      <th>25%</th>\n",
       "      <td>22.358333</td>\n",
       "      <td>37.725000</td>\n",
       "      <td>1102.000000</td>\n",
       "      <td>178.577454</td>\n",
       "      <td>1.000000</td>\n",
       "      <td>143.750000</td>\n",
       "      <td>116.562500</td>\n",
       "      <td>10.053533</td>\n",
       "      <td>0.000000</td>\n",
       "      <td>24.000000</td>\n",
       "    </tr>\n",
       "    <tr>\n",
       "      <th>50%</th>\n",
       "      <td>22.900000</td>\n",
       "      <td>39.747917</td>\n",
       "      <td>1262.541667</td>\n",
       "      <td>209.916667</td>\n",
       "      <td>1.000000</td>\n",
       "      <td>144.333333</td>\n",
       "      <td>190.000000</td>\n",
       "      <td>12.106858</td>\n",
       "      <td>0.000000</td>\n",
       "      <td>28.416667</td>\n",
       "    </tr>\n",
       "    <tr>\n",
       "      <th>75%</th>\n",
       "      <td>23.208333</td>\n",
       "      <td>44.600000</td>\n",
       "      <td>1366.876596</td>\n",
       "      <td>383.343828</td>\n",
       "      <td>1.000000</td>\n",
       "      <td>501.087889</td>\n",
       "      <td>301.833333</td>\n",
       "      <td>15.876286</td>\n",
       "      <td>0.083333</td>\n",
       "      <td>30.000000</td>\n",
       "    </tr>\n",
       "    <tr>\n",
       "      <th>max</th>\n",
       "      <td>29.350000</td>\n",
       "      <td>50.566667</td>\n",
       "      <td>1606.973185</td>\n",
       "      <td>2891.583333</td>\n",
       "      <td>1.000000</td>\n",
       "      <td>576.208035</td>\n",
       "      <td>635.000000</td>\n",
       "      <td>64.560408</td>\n",
       "      <td>1.000000</td>\n",
       "      <td>31.000000</td>\n",
       "    </tr>\n",
       "  </tbody>\n",
       "</table>\n",
       "</div>"
      ],
      "text/plain": [
       "              temp     humidity          co2        light     light_st  \\\n",
       "count  4492.000000  4492.000000  4492.000000  4492.000000  4492.000000   \n",
       "mean     23.130643    39.474289  1235.613327   414.313558     0.900749   \n",
       "std       1.401324     6.480433   182.745597   530.373407     0.295897   \n",
       "min      21.000000    21.100000   653.000000   138.294355     0.000000   \n",
       "25%      22.358333    37.725000  1102.000000   178.577454     1.000000   \n",
       "50%      22.900000    39.747917  1262.541667   209.916667     1.000000   \n",
       "75%      23.208333    44.600000  1366.876596   383.343828     1.000000   \n",
       "max      29.350000    50.566667  1606.973185  2891.583333     1.000000   \n",
       "\n",
       "             noise    bluetooth       images         door  occupancy_count  \n",
       "count  4492.000000  4492.000000  4492.000000  4492.000000      4492.000000  \n",
       "mean    292.690467   219.644525    13.397958     0.184636        23.934357  \n",
       "std     175.343505   139.619955     5.640015     0.357883         9.981144  \n",
       "min      30.777778     0.000000     1.982398     0.000000         0.000000  \n",
       "25%     143.750000   116.562500    10.053533     0.000000        24.000000  \n",
       "50%     144.333333   190.000000    12.106858     0.000000        28.416667  \n",
       "75%     501.087889   301.833333    15.876286     0.083333        30.000000  \n",
       "max     576.208035   635.000000    64.560408     1.000000        31.000000  "
      ]
     },
     "execution_count": 5,
     "metadata": {},
     "output_type": "execute_result"
    }
   ],
   "source": [
    "df.info()\n",
    "df.describe()"
   ]
  },
  {
   "cell_type": "markdown",
   "metadata": {},
   "source": [
    "### Features & Target Arrays<a name='features and target arrays'></a>"
   ]
  },
  {
   "cell_type": "code",
   "execution_count": 6,
   "metadata": {},
   "outputs": [
    {
     "data": {
      "text/plain": [
       "high         2881\n",
       "mid-level     781\n",
       "empty         482\n",
       "low           348\n",
       "Name: occupancy_level, dtype: int64"
      ]
     },
     "execution_count": 6,
     "metadata": {},
     "output_type": "execute_result"
    }
   ],
   "source": [
    "# Breakdown of classroom occupancy levels\n",
    "df.occupancy_level.value_counts()"
   ]
  },
  {
   "cell_type": "code",
   "execution_count": 7,
   "metadata": {},
   "outputs": [
    {
     "data": {
      "text/plain": [
       "array([0, 0, 2, ..., 2, 2, 2], dtype=int64)"
      ]
     },
     "execution_count": 7,
     "metadata": {},
     "output_type": "execute_result"
    }
   ],
   "source": [
    "# Encode multiclass target variable\n",
    "from sklearn.preprocessing import LabelEncoder\n",
    "\n",
    "encoder = LabelEncoder()\n",
    "encoder.fit_transform(df['occupancy_level'])"
   ]
  },
  {
   "cell_type": "code",
   "execution_count": 13,
   "metadata": {
    "collapsed": true
   },
   "outputs": [],
   "source": [
    "# Create feature and target arrays\n",
    "X = df.drop('occupancy_level', axis=1).values\n",
    "y = df['occupancy_level']"
   ]
  },
  {
   "cell_type": "code",
   "execution_count": 14,
   "metadata": {
    "collapsed": true
   },
   "outputs": [],
   "source": [
    "# Use TimeSeriesSplit to create training and test set split indices\n",
    "from sklearn.model_selection import TimeSeriesSplit\n",
    "\n",
    "tscv = TimeSeriesSplit(n_splits=12)\n",
    "\n",
    "for train_index, test_index in tscv.split(X):\n",
    "    X_train, X_test = X[train_index], X[test_index]\n",
    "    y_train, y_test = y[train_index], y[test_index]"
   ]
  },
  {
   "cell_type": "markdown",
   "metadata": {},
   "source": [
    "## kNN Classifier<a name='knn'></a>"
   ]
  },
  {
   "cell_type": "markdown",
   "metadata": {},
   "source": [
    "#### Cross-Validation Score<a name='first cv scores'></a>"
   ]
  },
  {
   "cell_type": "code",
   "execution_count": 15,
   "metadata": {},
   "outputs": [
    {
     "name": "stdout",
     "output_type": "stream",
     "text": [
      "[ 0.75862069  0.56426332  0.82131661  0.62695925  0.32288401  0.21003135\n",
      "  0.48902821  0.71473354  0.66144201  0.62382445  0.56426332  0.54858934]\n",
      "Average 12-Fold CV Score: 0.5755\n"
     ]
    }
   ],
   "source": [
    "# Initial cross-validation scores\n",
    "from sklearn.neighbors import KNeighborsClassifier\n",
    "from sklearn.model_selection import cross_val_score\n",
    "\n",
    "# Create a KNeighborsClassifier object: knn\n",
    "knn = KNeighborsClassifier().fit(X_train, y_train)\n",
    "\n",
    "# Print the 12-fold cross-validation scores\n",
    "cv_scores = cross_val_score(knn, X_train, y_train, cv=tscv)\n",
    "print(cv_scores)\n",
    "print('Average 12-Fold CV Score: {:.4f}'.format(np.mean(cv_scores)))"
   ]
  },
  {
   "cell_type": "code",
   "execution_count": 16,
   "metadata": {},
   "outputs": [
    {
     "name": "stdout",
     "output_type": "stream",
     "text": [
      "kNN Classification Report: \n",
      "             precision    recall  f1-score   support\n",
      "\n",
      "      empty       0.91      0.25      0.39        85\n",
      "       high       0.80      0.95      0.87       654\n",
      "        low       0.92      0.62      0.74       141\n",
      "  mid-level       0.73      0.70      0.72       243\n",
      "\n",
      "avg / total       0.81      0.80      0.78      1123\n",
      "\n",
      "Training set score: 0.9270\n",
      "Test set score: 0.8005\n"
     ]
    }
   ],
   "source": [
    "# Initial classification report\n",
    "from sklearn.metrics import classification_report\n",
    "\n",
    "tscv = TimeSeriesSplit()\n",
    "\n",
    "for train_index, test_index in tscv.split(X):\n",
    "    X_train, X_test = X[train_index], X[test_index]\n",
    "    y_train, y_test = y[train_index], y[test_index]\n",
    "\n",
    "# Predict the labels of the test set: y_pred\n",
    "y_pred = knn.predict(X_test)\n",
    "\n",
    "# Compute and print the classification report and training and test scores\n",
    "print('kNN Classification Report: \\n{}'.format(classification_report(y_test, y_pred)))\n",
    "print('Training set score: {:.4f}'.format(knn.score(X_train, y_train)))\n",
    "print('Test set score: {:.4f}'.format(knn.score(X_test, y_test)))"
   ]
  },
  {
   "cell_type": "markdown",
   "metadata": {},
   "source": [
    "## Hyperparameter Tuning<a name='hyperparameter tuning'></a>"
   ]
  },
  {
   "cell_type": "markdown",
   "metadata": {},
   "source": [
    "#### kNN Model Complexity Curve<a name='model complexity curve'></a>"
   ]
  },
  {
   "cell_type": "code",
   "execution_count": 17,
   "metadata": {},
   "outputs": [
    {
     "data": {
      "image/png": "[encoded data removed]",
      "text/plain": [
       "<matplotlib.figure.Figure at 0xbb2da58>"
      ]
     },
     "metadata": {},
     "output_type": "display_data"
    }
   ],
   "source": [
    "from sklearn.neighbors import KNeighborsClassifier\n",
    "from sklearn.pipeline import Pipeline\n",
    "from sklearn.preprocessing import RobustScaler\n",
    "\n",
    "neighbors = np.arange(1, 15)\n",
    "train_accuracy = np.empty(len(neighbors))\n",
    "test_accuracy = np.empty(len(neighbors))\n",
    "\n",
    "# Loop over different values of k\n",
    "for i, k in enumerate(neighbors):\n",
    "    # Setup a k-NN Classifier with k neighbors: knn\n",
    "    pipeline = Pipeline([('scaler', RobustScaler()),\n",
    "                         ('knn', KNeighborsClassifier(n_neighbors=k))])\n",
    "    \n",
    "    # Fit the classifier to the training data\n",
    "    pipeline.fit(X_train, y_train)\n",
    "    \n",
    "    #Compute accuracy on the training set\n",
    "    train_accuracy[i] = pipeline.score(X_train, y_train)\n",
    "    \n",
    "    #Compute accuracy on the testing set\n",
    "    test_accuracy[i] = pipeline.score(X_test, y_test)\n",
    "\n",
    "# Plot the results\n",
    "plt.plot(neighbors, test_accuracy, label='Testing Accuracy')\n",
    "plt.plot(neighbors, train_accuracy, label='Training Accuracy')\n",
    "plt.title('k-NN: Varying Number of Neighbors')\n",
    "plt.xlabel('Number of k-NN Neighbors')\n",
    "plt.ylabel('Test Accuracy')\n",
    "plt.legend(loc='best')\n",
    "plt.savefig('ml_graphs/knn_model_complexity_curve.png')"
   ]
  },
  {
   "cell_type": "markdown",
   "metadata": {},
   "source": [
    "### GridSearchCV<a name='gridsearchcv'></a>"
   ]
  },
  {
   "cell_type": "code",
   "execution_count": 18,
   "metadata": {},
   "outputs": [
    {
     "name": "stdout",
     "output_type": "stream",
     "text": [
      "kNN Best estimator:\n",
      "Pipeline(steps=[('robustscaler', RobustScaler(copy=True, quantile_range=(25.0, 75.0), with_centering=True,\n",
      "       with_scaling=True)), ('kneighborsclassifier', KNeighborsClassifier(algorithm='auto', leaf_size=30, metric='minkowski',\n",
      "           metric_params=None, n_jobs=1, n_neighbors=4, p=2,\n",
      "           weights='uniform'))])\n"
     ]
    }
   ],
   "source": [
    "from sklearn.model_selection import GridSearchCV\n",
    "from sklearn.pipeline import make_pipeline\n",
    "from sklearn.preprocessing import RobustScaler\n",
    "\n",
    "pipeline = make_pipeline(RobustScaler(), KNeighborsClassifier())\n",
    "\n",
    "param_grid = {'kneighborsclassifier__n_neighbors': np.arange(1, 15)}\n",
    "\n",
    "knn = GridSearchCV(pipeline, param_grid=param_grid, cv=tscv)\n",
    "\n",
    "knn.fit(X_train, y_train)\n",
    "\n",
    "print('kNN Best estimator:\\n{}'.format(knn.best_estimator_))"
   ]
  },
  {
   "cell_type": "code",
   "execution_count": 20,
   "metadata": {},
   "outputs": [
    {
     "name": "stdout",
     "output_type": "stream",
     "text": [
      "kNN Model (Tuned)\n",
      "Best Score: 0.7300\n",
      "Best Parameters: {'kneighborsclassifier__n_neighbors': 4}\n"
     ]
    }
   ],
   "source": [
    "# Print the tuned parameters and score by accessing the best_params_ and best_score_ attributes of grid\n",
    "print('kNN Model (Tuned)')\n",
    "print('Best Score: {:.4f}'.format(knn.best_score_))\n",
    "print('Best Parameters: {}'.format(knn.best_params_))"
   ]
  },
  {
   "cell_type": "markdown",
   "metadata": {},
   "source": [
    "#### kNN Classification Report<a name='classification report'></a>"
   ]
  },
  {
   "cell_type": "code",
   "execution_count": 21,
   "metadata": {},
   "outputs": [
    {
     "name": "stdout",
     "output_type": "stream",
     "text": [
      "kNN Classification Report: \n",
      "             precision    recall  f1-score   support\n",
      "\n",
      "      empty       0.62      1.00      0.77        85\n",
      "       high       0.85      0.96      0.90       654\n",
      "        low       0.92      0.63      0.75       141\n",
      "  mid-level       0.82      0.52      0.63       243\n",
      "\n",
      "avg / total       0.84      0.83      0.81      1123\n",
      "\n",
      "Training set score: 0.9694\n",
      "Test set score: 0.8255\n"
     ]
    }
   ],
   "source": [
    "# Predict the labels of the test set: y_pred\n",
    "y_pred = knn.predict(X_test)\n",
    "\n",
    "print('kNN Classification Report: \\n{}'.format(classification_report(y_test, y_pred)))\n",
    "print('Training set score: {:.4f}'.format(knn.score(X_train, y_train)))\n",
    "print('Test set score: {:.4f}'.format(knn.score(X_test, y_test)))"
   ]
  },
  {
   "cell_type": "code",
   "execution_count": 22,
   "metadata": {},
   "outputs": [
    {
     "name": "stdout",
     "output_type": "stream",
     "text": [
      "F1 Score - micro: 0.8255\n",
      "F1 Score - weighted: 0.8149\n",
      "F1 Score - macro: 0.7635\n"
     ]
    }
   ],
   "source": [
    "# Compare f1 scores based on different averaging strategies\n",
    "from sklearn.metrics import f1_score\n",
    "\n",
    "print('F1 Score - micro: {:.4f}'.format(f1_score(y_test, y_pred, average='micro')))\n",
    "print('F1 Score - weighted: {:.4f}'.format(f1_score(y_test, y_pred, average='weighted')))\n",
    "print('F1 Score - macro: {:.4f}'.format(f1_score(y_test, y_pred, average='macro')))"
   ]
  },
  {
   "cell_type": "code",
   "execution_count": 24,
   "metadata": {},
   "outputs": [
    {
     "name": "stdout",
     "output_type": "stream",
     "text": [
      "Micro\n",
      "F1 Score: 0.8255\n",
      "Precision Score: 0.8255\n",
      "Recall Score: 0.8255\n"
     ]
    }
   ],
   "source": [
    "from sklearn.metrics import precision_score, recall_score\n",
    "\n",
    "print('Micro')\n",
    "print('F1 Score: {:.4f}'.format(f1_score(y_test, y_pred, average='micro')))\n",
    "print('Precision Score: {:.4f}'.format(precision_score(y_test, y_pred, average='micro')))\n",
    "print('Recall Score: {:.4f}'.format(recall_score(y_test, y_pred, average='micro')))"
   ]
  },
  {
   "cell_type": "code",
   "execution_count": 27,
   "metadata": {},
   "outputs": [
    {
     "data": {
      "image/png": "[encoded data removed]",
      "text/plain": [
       "<matplotlib.figure.Figure at 0xc1a95c0>"
      ]
     },
     "metadata": {},
     "output_type": "display_data"
    }
   ],
   "source": [
    "from yellowbrick.classifier import ClassificationReport\n",
    "classes = ['Empty', 'High', 'Low', 'Mid-Level']\n",
    "\n",
    "visualizer = ClassificationReport(knn, classes=classes)\n",
    "\n",
    "fig = plt.figure()\n",
    "visualizer.fit(X_train, y_train)\n",
    "visualizer.score(X_test, y_test)\n",
    "g = visualizer.poof()\n",
    "#plt.savefig('ml_graphs/knn_classification_report.png')"
   ]
  },
  {
   "cell_type": "markdown",
   "metadata": {},
   "source": [
    "#### Confusion Matrix<a name='confusion matrix'></a>"
   ]
  },
  {
   "cell_type": "code",
   "execution_count": 29,
   "metadata": {},
   "outputs": [
    {
     "name": "stdout",
     "output_type": "stream",
     "text": [
      "kNN Confusion Matrix\n",
      "[[ 85   0   0   0]\n",
      " [  0 627   0  27]\n",
      " [ 51   0  89   1]\n",
      " [  0 109   8 126]]\n"
     ]
    }
   ],
   "source": [
    "from sklearn.metrics import confusion_matrix\n",
    "\n",
    "print('kNN Confusion Matrix')\n",
    "print(confusion_matrix(y_test, y_pred))"
   ]
  },
  {
   "cell_type": "markdown",
   "metadata": {},
   "source": [
    "#### Class Balance<a name='class balance'></a>"
   ]
  },
  {
   "cell_type": "code",
   "execution_count": 28,
   "metadata": {},
   "outputs": [
    {
     "data": {
      "image/png": "[encoded data removed]",
      "text/plain": [
       "<matplotlib.figure.Figure at 0xbe3b1d0>"
      ]
     },
     "metadata": {},
     "output_type": "display_data"
    }
   ],
   "source": [
    "from yellowbrick.classifier import ClassBalance\n",
    "classes = ['Empty', 'High', 'Low', 'Mid-Level']\n",
    "\n",
    "visualizer = ClassBalance(knn, classes=classes)\n",
    "\n",
    "fig = plt.figure()\n",
    "visualizer.fit(X_train, y_train)\n",
    "visualizer.score(X_test, y_test)\n",
    "g = visualizer.poof()\n",
    "#plt.savefig('ml_graphs/knn_class_balance.png')"
   ]
  },
  {
   "cell_type": "markdown",
   "metadata": {},
   "source": [
    "## Save Model<a name='pickle'></a>"
   ]
  },
  {
   "cell_type": "code",
   "execution_count": 31,
   "metadata": {
    "collapsed": true
   },
   "outputs": [],
   "source": [
    "import pickle\n",
    "\n",
    "knn_model = 'knn_model.sav'\n",
    "\n",
    "# Save fitted model to disk\n",
    "pickle.dump(knn, open(knn_model, 'wb'))"
   ]
  },
  {
   "cell_type": "markdown",
   "metadata": {},
   "source": [
    "### [Return to Table of Contents](#table of contents)"
   ]
  },
  {
   "cell_type": "code",
   "execution_count": 32,
   "metadata": {},
   "outputs": [
    {
     "name": "stdout",
     "output_type": "stream",
     "text": [
      "0.825467497774\n"
     ]
    }
   ],
   "source": [
    "loaded_model = pickle.load(open(knn_model, 'rb'))\n",
    "\n",
    "result = loaded_model.score(X_test, y_test)\n",
    "print(result)"
   ]
  }
 ],
 "metadata": {
  "kernelspec": {
   "display_name": "Python [Root]",
   "language": "python",
   "name": "Python [Root]"
  },
  "language_info": {
   "codemirror_mode": {
    "name": "ipython",
    "version": 3
   },
   "file_extension": ".py",
   "mimetype": "text/x-python",
   "name": "python",
   "nbconvert_exporter": "python",
   "pygments_lexer": "ipython3",
   "version": "3.5.3"
  }
 },
 "nbformat": 4,
 "nbformat_minor": 1
}
