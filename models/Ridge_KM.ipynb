{
 "cells": [
  {
   "cell_type": "markdown",
   "metadata": {},
   "source": [
    "# Machine Learning: Ridge Regression\n",
    "#### Dataset Information:\n",
    "Number of Attributes: 11  \n",
    "Number of Instances: 4492  (1 minute interval)"
   ]
  },
  {
   "cell_type": "markdown",
   "metadata": {},
   "source": [
    "### Table of Contents<a name='table of contents'></a>\n",
    "\n",
    "1. [Data Ingestion](#data ingestion)\n",
    "2. [Features & Target Arrays](#features and target arrays)\n",
    "3. [Ridge Regression](#ridge)  \n",
    "    a. [Residuals Plot](#residuals plot)  \n",
    "    b. [Prediction Error Plot](#prediction error plot)  \n",
    "4. [RidgeCV](#ridgecv)  \n",
    "    a. [Residuals Plot](#updated residuals plot)  \n",
    "    b. [Prediction Error Plot](#updated prediction error plot)  \n",
    "5. [Save Model](#pickle)"
   ]
  },
  {
   "cell_type": "code",
   "execution_count": 1,
   "metadata": {
    "collapsed": true
   },
   "outputs": [],
   "source": [
    "%matplotlib inline\n",
    "\n",
    "import os\n",
    "import json\n",
    "import time\n",
    "import pickle\n",
    "import requests\n",
    "import numpy as np\n",
    "import pandas as pd\n",
    "\n",
    "import seaborn as sns\n",
    "import matplotlib.pyplot as plt\n",
    "import yellowbrick as yb\n",
    "sns.set_palette('RdBu', 10)"
   ]
  },
  {
   "cell_type": "markdown",
   "metadata": {},
   "source": [
    "## Data Ingestion<a name='data ingestion'></a>"
   ]
  },
  {
   "cell_type": "code",
   "execution_count": 2,
   "metadata": {
    "collapsed": true
   },
   "outputs": [],
   "source": [
    "URL = 'https://raw.githubusercontent.com/georgetown-analytics/classroom-occupancy/master/models/sensor_data_ml.csv'\n",
    "\n",
    "def fetch_data(fname='sensor_data_ml.csv'):\n",
    "    response = requests.get(URL)\n",
    "    outpath  = os.path.abspath(fname)\n",
    "    with open(outpath, 'wb') as f:\n",
    "        f.write(response.content)\n",
    "    \n",
    "    return outpath\n",
    "\n",
    "# Defining fetching data from the URL\n",
    "DATA = fetch_data()"
   ]
  },
  {
   "cell_type": "code",
   "execution_count": 3,
   "metadata": {
    "collapsed": true,
    "scrolled": true
   },
   "outputs": [],
   "source": [
    "# Import sensor data\n",
    "df = pd.read_csv('sensor_data_ml.csv', index_col='datetime', parse_dates=True)\n",
    "\n",
    "# Rename columns\n",
    "df.columns = ['temp', 'humidity', 'co2', 'light', 'light_st',\n",
    "              'noise', 'bluetooth', 'images', 'door', 'occupancy_count', 'occupancy_level']"
   ]
  },
  {
   "cell_type": "code",
   "execution_count": 4,
   "metadata": {},
   "outputs": [
    {
     "name": "stdout",
     "output_type": "stream",
     "text": [
      "<class 'pandas.core.frame.DataFrame'>\n",
      "DatetimeIndex: 4492 entries, 2017-03-25 09:05:00 to 2017-06-10 16:47:00\n",
      "Data columns (total 11 columns):\n",
      "temp               4492 non-null float64\n",
      "humidity           4492 non-null float64\n",
      "co2                4492 non-null float64\n",
      "light              4492 non-null float64\n",
      "light_st           4492 non-null float64\n",
      "noise              4492 non-null float64\n",
      "bluetooth          4492 non-null float64\n",
      "images             4492 non-null float64\n",
      "door               4492 non-null float64\n",
      "occupancy_count    4492 non-null float64\n",
      "occupancy_level    4492 non-null object\n",
      "dtypes: float64(10), object(1)\n",
      "memory usage: 421.1+ KB\n"
     ]
    },
    {
     "data": {
      "text/html": [
       "<div>\n",
       "<style>\n",
       "    .dataframe thead tr:only-child th {\n",
       "        text-align: right;\n",
       "    }\n",
       "\n",
       "    .dataframe thead th {\n",
       "        text-align: left;\n",
       "    }\n",
       "\n",
       "    .dataframe tbody tr th {\n",
       "        vertical-align: top;\n",
       "    }\n",
       "</style>\n",
       "<table border=\"1\" class=\"dataframe\">\n",
       "  <thead>\n",
       "    <tr style=\"text-align: right;\">\n",
       "      <th></th>\n",
       "      <th>temp</th>\n",
       "      <th>humidity</th>\n",
       "      <th>co2</th>\n",
       "      <th>light</th>\n",
       "      <th>light_st</th>\n",
       "      <th>noise</th>\n",
       "      <th>bluetooth</th>\n",
       "      <th>images</th>\n",
       "      <th>door</th>\n",
       "      <th>occupancy_count</th>\n",
       "      <th>occupancy_level</th>\n",
       "    </tr>\n",
       "    <tr>\n",
       "      <th>datetime</th>\n",
       "      <th></th>\n",
       "      <th></th>\n",
       "      <th></th>\n",
       "      <th></th>\n",
       "      <th></th>\n",
       "      <th></th>\n",
       "      <th></th>\n",
       "      <th></th>\n",
       "      <th></th>\n",
       "      <th></th>\n",
       "      <th></th>\n",
       "    </tr>\n",
       "  </thead>\n",
       "  <tbody>\n",
       "    <tr>\n",
       "      <th>2017-03-25 09:05:00</th>\n",
       "      <td>22.600000</td>\n",
       "      <td>36.900000</td>\n",
       "      <td>781.000000</td>\n",
       "      <td>430.000000</td>\n",
       "      <td>1.0</td>\n",
       "      <td>511.000000</td>\n",
       "      <td>1.000000</td>\n",
       "      <td>15.242697</td>\n",
       "      <td>0.000000</td>\n",
       "      <td>0.000000</td>\n",
       "      <td>empty</td>\n",
       "    </tr>\n",
       "    <tr>\n",
       "      <th>2017-03-25 09:06:00</th>\n",
       "      <td>23.800000</td>\n",
       "      <td>38.954167</td>\n",
       "      <td>765.465279</td>\n",
       "      <td>428.533744</td>\n",
       "      <td>1.0</td>\n",
       "      <td>503.515931</td>\n",
       "      <td>11.399457</td>\n",
       "      <td>15.242697</td>\n",
       "      <td>0.000000</td>\n",
       "      <td>0.000000</td>\n",
       "      <td>empty</td>\n",
       "    </tr>\n",
       "    <tr>\n",
       "      <th>2017-03-25 09:07:00</th>\n",
       "      <td>23.850000</td>\n",
       "      <td>38.900000</td>\n",
       "      <td>768.458333</td>\n",
       "      <td>423.576500</td>\n",
       "      <td>1.0</td>\n",
       "      <td>510.548913</td>\n",
       "      <td>19.916667</td>\n",
       "      <td>15.242697</td>\n",
       "      <td>0.083333</td>\n",
       "      <td>4.416667</td>\n",
       "      <td>low</td>\n",
       "    </tr>\n",
       "    <tr>\n",
       "      <th>2017-03-25 09:08:00</th>\n",
       "      <td>23.900000</td>\n",
       "      <td>38.766667</td>\n",
       "      <td>777.791667</td>\n",
       "      <td>423.053571</td>\n",
       "      <td>1.0</td>\n",
       "      <td>506.504630</td>\n",
       "      <td>29.750000</td>\n",
       "      <td>15.242697</td>\n",
       "      <td>0.000000</td>\n",
       "      <td>23.416667</td>\n",
       "      <td>mid-level</td>\n",
       "    </tr>\n",
       "    <tr>\n",
       "      <th>2017-03-25 09:09:00</th>\n",
       "      <td>23.908333</td>\n",
       "      <td>38.733333</td>\n",
       "      <td>770.864583</td>\n",
       "      <td>438.607904</td>\n",
       "      <td>1.0</td>\n",
       "      <td>500.092672</td>\n",
       "      <td>35.860577</td>\n",
       "      <td>15.242697</td>\n",
       "      <td>0.000000</td>\n",
       "      <td>30.000000</td>\n",
       "      <td>high</td>\n",
       "    </tr>\n",
       "  </tbody>\n",
       "</table>\n",
       "</div>"
      ],
      "text/plain": [
       "                          temp   humidity         co2       light  light_st  \\\n",
       "datetime                                                                      \n",
       "2017-03-25 09:05:00  22.600000  36.900000  781.000000  430.000000       1.0   \n",
       "2017-03-25 09:06:00  23.800000  38.954167  765.465279  428.533744       1.0   \n",
       "2017-03-25 09:07:00  23.850000  38.900000  768.458333  423.576500       1.0   \n",
       "2017-03-25 09:08:00  23.900000  38.766667  777.791667  423.053571       1.0   \n",
       "2017-03-25 09:09:00  23.908333  38.733333  770.864583  438.607904       1.0   \n",
       "\n",
       "                          noise  bluetooth     images      door  \\\n",
       "datetime                                                          \n",
       "2017-03-25 09:05:00  511.000000   1.000000  15.242697  0.000000   \n",
       "2017-03-25 09:06:00  503.515931  11.399457  15.242697  0.000000   \n",
       "2017-03-25 09:07:00  510.548913  19.916667  15.242697  0.083333   \n",
       "2017-03-25 09:08:00  506.504630  29.750000  15.242697  0.000000   \n",
       "2017-03-25 09:09:00  500.092672  35.860577  15.242697  0.000000   \n",
       "\n",
       "                     occupancy_count occupancy_level  \n",
       "datetime                                              \n",
       "2017-03-25 09:05:00         0.000000           empty  \n",
       "2017-03-25 09:06:00         0.000000           empty  \n",
       "2017-03-25 09:07:00         4.416667             low  \n",
       "2017-03-25 09:08:00        23.416667       mid-level  \n",
       "2017-03-25 09:09:00        30.000000            high  "
      ]
     },
     "execution_count": 4,
     "metadata": {},
     "output_type": "execute_result"
    }
   ],
   "source": [
    "df.info()\n",
    "df.head()"
   ]
  },
  {
   "cell_type": "markdown",
   "metadata": {},
   "source": [
    "## Features & Target Arrays<a name='features and target arrays'></a>"
   ]
  },
  {
   "cell_type": "code",
   "execution_count": 5,
   "metadata": {
    "collapsed": true
   },
   "outputs": [],
   "source": [
    "# Drop 'occupancy_level' column\n",
    "df.drop('occupancy_level', axis=1, inplace=True)"
   ]
  },
  {
   "cell_type": "code",
   "execution_count": 6,
   "metadata": {
    "collapsed": true
   },
   "outputs": [],
   "source": [
    "from sklearn.model_selection import TimeSeriesSplit\n",
    "\n",
    "# Create feature and target arrays\n",
    "X = df.drop('occupancy_count', axis=1).values\n",
    "y = df['occupancy_count']\n",
    "\n",
    "tscv = TimeSeriesSplit(n_splits=12)\n",
    "\n",
    "for train_index, test_index in tscv.split(X):\n",
    "    X_train, X_test = X[train_index], X[test_index]\n",
    "    y_train, y_test = y[train_index], y[test_index]"
   ]
  },
  {
   "cell_type": "markdown",
   "metadata": {},
   "source": [
    "## Ridge<a name='ridge'></a>"
   ]
  },
  {
   "cell_type": "code",
   "execution_count": 10,
   "metadata": {},
   "outputs": [
    {
     "name": "stdout",
     "output_type": "stream",
     "text": [
      "Root Mean Squared Error: 9.718\n",
      "Mean Squared Error: 94.431\n",
      "Coefficient of Determination: 0.230\n"
     ]
    }
   ],
   "source": [
    "from sklearn.linear_model import Ridge\n",
    "from sklearn.model_selection import cross_val_score\n",
    "from sklearn.metrics import mean_squared_error as mse\n",
    "from sklearn.metrics import r2_score\n",
    "\n",
    "# Create a ridge regression object: ridge\n",
    "ridge = Ridge().fit(X_train, y_train)\n",
    "\n",
    "# Predict on the test data: y_pred\n",
    "y_pred = ridge.predict(X_test)\n",
    "\n",
    "# Print mean squared error and coefficient of determination\n",
    "print('Root Mean Squared Error: {:.3f}'.format(np.sqrt(mse(y_test, y_pred))))\n",
    "print('Mean Squared Error: {:.3f}'.format(mse(y_test, y_pred)))\n",
    "print('Coefficient of Determination: {:.3f}'.format(r2_score(y_test, y_pred)))"
   ]
  },
  {
   "cell_type": "code",
   "execution_count": 12,
   "metadata": {},
   "outputs": [
    {
     "name": "stdout",
     "output_type": "stream",
     "text": [
      "ridge.coef_: [ -2.92272901e+00   5.62272714e-01   5.75341006e-02  -7.84558765e-03\n",
      "  -1.93717018e+01   6.02406008e-02  -1.67847470e-02  -7.53378665e-02\n",
      "  -6.34686056e-01]\n",
      "ridge.intercept_: 6.678\n"
     ]
    }
   ],
   "source": [
    "print('ridge.coef_: {}'.format(ridge.coef_))\n",
    "print('ridge.intercept_: {:.3f}'.format(ridge.intercept_))"
   ]
  },
  {
   "cell_type": "markdown",
   "metadata": {},
   "source": [
    "#### Residuals Plot <a name='residuals plot'></a>"
   ]
  },
  {
   "cell_type": "code",
   "execution_count": 13,
   "metadata": {},
   "outputs": [
    {
     "data": {
      "image/png": "[encoded data removed]",
      "text/plain": [
       "<matplotlib.figure.Figure at 0x4d82630>"
      ]
     },
     "metadata": {},
     "output_type": "display_data"
    }
   ],
   "source": [
    "from yellowbrick.regressor import ResidualsPlot\n",
    "\n",
    "visualizer = ResidualsPlot(ridge)\n",
    "\n",
    "fig = plt.figure()\n",
    "visualizer.fit(X_train, y_train)\n",
    "visualizer.score(X_test, y_test)\n",
    "g = visualizer.poof() \n",
    "#plt.savefig('ml_graphs/ridge_residuals_plot.png')"
   ]
  },
  {
   "cell_type": "markdown",
   "metadata": {},
   "source": [
    "#### Prediction Error Plot <a name='prediction error plot'></a>"
   ]
  },
  {
   "cell_type": "code",
   "execution_count": 14,
   "metadata": {},
   "outputs": [
    {
     "data": {
      "image/png": "[encoded data removed]",
      "text/plain": [
       "<matplotlib.figure.Figure at 0x78745c0>"
      ]
     },
     "metadata": {},
     "output_type": "display_data"
    }
   ],
   "source": [
    "from yellowbrick.regressor import PredictionError\n",
    "\n",
    "visualizer = PredictionError(ridge)\n",
    "\n",
    "fig = plt.figure()\n",
    "visualizer.fit(X_train, y_train)\n",
    "visualizer.score(X_test, y_test)\n",
    "g = visualizer.poof()\n",
    "#plt.savefig('ml_graphs/ridge_prediction_error.png')"
   ]
  },
  {
   "cell_type": "markdown",
   "metadata": {},
   "source": [
    "## Hyperparameter Tuning<a name='ridgecv'></a>"
   ]
  },
  {
   "cell_type": "code",
   "execution_count": 15,
   "metadata": {},
   "outputs": [
    {
     "name": "stdout",
     "output_type": "stream",
     "text": [
      "Best estimator:\n",
      "Pipeline(steps=[('robustscaler', RobustScaler(copy=True, quantile_range=(25.0, 75.0), with_centering=True,\n",
      "       with_scaling=True)), ('polynomialfeatures', PolynomialFeatures(degree=0, include_bias=True, interaction_only=False)), ('ridge', Ridge(alpha=0.001, copy_X=True, fit_intercept=True, max_iter=None,\n",
      "   normalize=False, random_state=None, solver='auto', tol=0.001))])\n"
     ]
    }
   ],
   "source": [
    "from sklearn.pipeline import make_pipeline\n",
    "from sklearn.model_selection import GridSearchCV\n",
    "from sklearn.preprocessing import PolynomialFeatures, RobustScaler\n",
    "\n",
    "pipe = make_pipeline(RobustScaler(),\n",
    "                     PolynomialFeatures(),\n",
    "                     Ridge())\n",
    "\n",
    "param_grid = {'polynomialfeatures__degree': [0, 1, 2, 3],\n",
    "              'ridge__alpha': [0.001, 0.01, 0.1, 1, 10, 100]}\n",
    "\n",
    "grid = GridSearchCV(pipe, param_grid, cv=tscv, n_jobs =-1)\n",
    "\n",
    "ridgecv = grid.fit(X_train, y_train)\n",
    "\n",
    "print('Best estimator:\\n{}'.format(ridgecv.best_estimator_))"
   ]
  },
  {
   "cell_type": "code",
   "execution_count": 16,
   "metadata": {},
   "outputs": [
    {
     "name": "stdout",
     "output_type": "stream",
     "text": [
      "Best score: -0.0571\n",
      "Best parameters: {'ridge__alpha': 0.001, 'polynomialfeatures__degree': 0}\n"
     ]
    }
   ],
   "source": [
    "print('Best score: {:.4f}'.format(ridgecv.best_score_))\n",
    "print('Best parameters: {}'.format(ridgecv.best_params_))"
   ]
  },
  {
   "cell_type": "code",
   "execution_count": 19,
   "metadata": {},
   "outputs": [
    {
     "name": "stdout",
     "output_type": "stream",
     "text": [
      "Root Mean Squared Error: 11.478\n",
      "Mean Squared Error: 131.746\n",
      "Coefficent of Determination: -0.074\n"
     ]
    }
   ],
   "source": [
    "y_pred = ridgecv.predict(X_test)\n",
    "\n",
    "print('Root Mean Squared Error: {:.3f}'.format(np.sqrt(mse(y_test, y_pred))))\n",
    "print('Mean Squared Error: {:.3f}'.format(mse(y_test, y_pred)))\n",
    "print('Coefficent of Determination: {:.3f}'.format(r2_score(y_test, y_pred)))"
   ]
  },
  {
   "cell_type": "markdown",
   "metadata": {
    "collapsed": true
   },
   "source": [
    "## Save Model<a name='pickle'></a>"
   ]
  },
  {
   "cell_type": "code",
   "execution_count": 20,
   "metadata": {
    "collapsed": true
   },
   "outputs": [],
   "source": [
    "import pickle\n",
    "\n",
    "ridge_model = 'ridge_model.sav'\n",
    "\n",
    "# Save fitted model to disk\n",
    "pickle.dump(ridgecv, open(ridge_model, 'wb'))"
   ]
  },
  {
   "cell_type": "markdown",
   "metadata": {},
   "source": [
    "### [Return to Table of Contents](#table of contents)"
   ]
  },
  {
   "cell_type": "code",
   "execution_count": 21,
   "metadata": {},
   "outputs": [
    {
     "name": "stdout",
     "output_type": "stream",
     "text": [
      "-0.074039852225\n"
     ]
    }
   ],
   "source": [
    "loaded_model = pickle.load(open(ridge_model, 'rb'))\n",
    "\n",
    "result = loaded_model.score(X_test, y_test)\n",
    "print(result)"
   ]
  }
 ],
 "metadata": {
  "kernelspec": {
   "display_name": "Python [Root]",
   "language": "python",
   "name": "Python [Root]"
  },
  "language_info": {
   "codemirror_mode": {
    "name": "ipython",
    "version": 3
   },
   "file_extension": ".py",
   "mimetype": "text/x-python",
   "name": "python",
   "nbconvert_exporter": "python",
   "pygments_lexer": "ipython3",
   "version": "3.5.3"
  }
 },
 "nbformat": 4,
 "nbformat_minor": 1
}
