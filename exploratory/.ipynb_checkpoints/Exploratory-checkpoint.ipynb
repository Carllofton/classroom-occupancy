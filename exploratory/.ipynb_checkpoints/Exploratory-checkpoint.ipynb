{
 "cells": [
  {
   "cell_type": "code",
   "execution_count": null,
   "metadata": {
    "collapsed": false
   },
   "outputs": [],
   "source": [
    "import pandas as pd\n",
    "import numpy as np"
   ]
  },
  {
   "cell_type": "code",
   "execution_count": null,
   "metadata": {
    "collapsed": false
   },
   "outputs": [],
   "source": [
    "#read datasets using pandas\n",
    "CO2 = pd.read_csv('CO2.csv')\n",
    "Bluetooth = pd.read_csv('Bluetooth.csv', delimiter = \";\", \n",
    "                        header = 0, names = ['Date Time','Location','Bluetooth','Time fix'])\n",
    "Light = pd.read_csv('Light.csv', delimiter = \";\", header = 0, names = ['Date Time','Location','Light','Time fix'])\n",
    "Sound = pd.read_csv('Sound.csv')\n",
    "Temp_humidity = pd.read_csv('Temp_humidity.csv', delimiter = \";\", \n",
    "                            header = 0, names = ['Date Time','Location','Temp','Humidity','Time fix'])\n"
   ]
  },
  {
   "cell_type": "code",
   "execution_count": null,
   "metadata": {
    "collapsed": true
   },
   "outputs": [],
   "source": []
  }
 ],
 "metadata": {
  "kernelspec": {
   "display_name": "Python 3",
   "language": "python",
   "name": "python3"
  },
  "language_info": {
   "codemirror_mode": {
    "name": "ipython",
    "version": 3
   },
   "file_extension": ".py",
   "mimetype": "text/x-python",
   "name": "python",
   "nbconvert_exporter": "python",
   "pygments_lexer": "ipython3",
   "version": "3.6.0"
  }
 },
 "nbformat": 4,
 "nbformat_minor": 2
}
