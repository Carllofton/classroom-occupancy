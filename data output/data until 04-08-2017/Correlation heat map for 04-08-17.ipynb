{
 "cells": [
  {
   "cell_type": "code",
   "execution_count": 53,
   "metadata": {
    "collapsed": true
   },
   "outputs": [],
   "source": [
    "import numpy as np\n",
    "import pandas as pd\n",
    "import matplotlib.pyplot as plt \n",
    "import seaborn as sns"
   ]
  },
  {
   "cell_type": "code",
   "execution_count": 54,
   "metadata": {},
   "outputs": [
    {
     "data": {
      "text/html": [
       "<div>\n",
       "<table border=\"1\" class=\"dataframe\">\n",
       "  <thead>\n",
       "    <tr style=\"text-align: right;\">\n",
       "      <th></th>\n",
       "      <th>datetime</th>\n",
       "      <th>location</th>\n",
       "      <th>temperature</th>\n",
       "      <th>humidity</th>\n",
       "      <th>co2</th>\n",
       "      <th>light</th>\n",
       "      <th>noise</th>\n",
       "      <th>bluetooth_devices</th>\n",
       "      <th>bluetooth_non_personal_devices</th>\n",
       "    </tr>\n",
       "  </thead>\n",
       "  <tbody>\n",
       "    <tr>\n",
       "      <th>1</th>\n",
       "      <td>2017-04-08 08:58:44</td>\n",
       "      <td>Georgetown</td>\n",
       "      <td>21.8</td>\n",
       "      <td>24.1</td>\n",
       "      <td>792.0</td>\n",
       "      <td>174.0</td>\n",
       "      <td>521.0</td>\n",
       "      <td>47</td>\n",
       "      <td>41</td>\n",
       "    </tr>\n",
       "    <tr>\n",
       "      <th>2</th>\n",
       "      <td>2017-04-08 08:58:50</td>\n",
       "      <td>Georgetown</td>\n",
       "      <td>21.8</td>\n",
       "      <td>23.8</td>\n",
       "      <td>776.0</td>\n",
       "      <td>178.0</td>\n",
       "      <td>513.0</td>\n",
       "      <td>47</td>\n",
       "      <td>41</td>\n",
       "    </tr>\n",
       "    <tr>\n",
       "      <th>3</th>\n",
       "      <td>2017-04-08 08:58:55</td>\n",
       "      <td>Georgetown</td>\n",
       "      <td>21.8</td>\n",
       "      <td>23.8</td>\n",
       "      <td>763.0</td>\n",
       "      <td>151.0</td>\n",
       "      <td>535.0</td>\n",
       "      <td>49</td>\n",
       "      <td>43</td>\n",
       "    </tr>\n",
       "    <tr>\n",
       "      <th>4</th>\n",
       "      <td>2017-04-08 08:59:00</td>\n",
       "      <td>Georgetown</td>\n",
       "      <td>21.8</td>\n",
       "      <td>24.1</td>\n",
       "      <td>776.0</td>\n",
       "      <td>174.0</td>\n",
       "      <td>523.0</td>\n",
       "      <td>49</td>\n",
       "      <td>43</td>\n",
       "    </tr>\n",
       "    <tr>\n",
       "      <th>5</th>\n",
       "      <td>2017-04-08 08:59:06</td>\n",
       "      <td>Georgetown</td>\n",
       "      <td>21.8</td>\n",
       "      <td>24.2</td>\n",
       "      <td>789.0</td>\n",
       "      <td>178.0</td>\n",
       "      <td>515.0</td>\n",
       "      <td>49</td>\n",
       "      <td>43</td>\n",
       "    </tr>\n",
       "  </tbody>\n",
       "</table>\n",
       "</div>"
      ],
      "text/plain": [
       "              datetime    location  temperature  humidity    co2  light  \\\n",
       "1  2017-04-08 08:58:44  Georgetown         21.8      24.1  792.0  174.0   \n",
       "2  2017-04-08 08:58:50  Georgetown         21.8      23.8  776.0  178.0   \n",
       "3  2017-04-08 08:58:55  Georgetown         21.8      23.8  763.0  151.0   \n",
       "4  2017-04-08 08:59:00  Georgetown         21.8      24.1  776.0  174.0   \n",
       "5  2017-04-08 08:59:06  Georgetown         21.8      24.2  789.0  178.0   \n",
       "\n",
       "   noise  bluetooth_devices  bluetooth_non_personal_devices  \n",
       "1  521.0                 47                              41  \n",
       "2  513.0                 47                              41  \n",
       "3  535.0                 49                              43  \n",
       "4  523.0                 49                              43  \n",
       "5  515.0                 49                              43  "
      ]
     },
     "execution_count": 54,
     "metadata": {},
     "output_type": "execute_result"
    }
   ],
   "source": [
    "full = pd.read_csv('full_sensor_data--only_04-08-17.csv')\n",
    "full = full[full.temperature > 0]\n",
    "full.head()"
   ]
  },
  {
   "cell_type": "code",
   "execution_count": 58,
   "metadata": {},
   "outputs": [
    {
     "data": {
      "text/html": [
       "<div>\n",
       "<table border=\"1\" class=\"dataframe\">\n",
       "  <thead>\n",
       "    <tr style=\"text-align: right;\">\n",
       "      <th></th>\n",
       "      <th>temperature</th>\n",
       "      <th>humidity</th>\n",
       "      <th>co2</th>\n",
       "      <th>light</th>\n",
       "      <th>noise</th>\n",
       "      <th>bluetooth_devices</th>\n",
       "      <th>bluetooth_non_personal_devices</th>\n",
       "    </tr>\n",
       "  </thead>\n",
       "  <tbody>\n",
       "    <tr>\n",
       "      <th>temperature</th>\n",
       "      <td>1.000000</td>\n",
       "      <td>-0.354831</td>\n",
       "      <td>0.398935</td>\n",
       "      <td>-0.002244</td>\n",
       "      <td>0.031419</td>\n",
       "      <td>0.657303</td>\n",
       "      <td>0.654850</td>\n",
       "    </tr>\n",
       "    <tr>\n",
       "      <th>humidity</th>\n",
       "      <td>-0.354831</td>\n",
       "      <td>1.000000</td>\n",
       "      <td>-0.055162</td>\n",
       "      <td>-0.009243</td>\n",
       "      <td>-0.024921</td>\n",
       "      <td>-0.455167</td>\n",
       "      <td>-0.458281</td>\n",
       "    </tr>\n",
       "    <tr>\n",
       "      <th>co2</th>\n",
       "      <td>0.398935</td>\n",
       "      <td>-0.055162</td>\n",
       "      <td>1.000000</td>\n",
       "      <td>0.004434</td>\n",
       "      <td>0.033242</td>\n",
       "      <td>0.493976</td>\n",
       "      <td>0.489057</td>\n",
       "    </tr>\n",
       "    <tr>\n",
       "      <th>light</th>\n",
       "      <td>-0.002244</td>\n",
       "      <td>-0.009243</td>\n",
       "      <td>0.004434</td>\n",
       "      <td>1.000000</td>\n",
       "      <td>-0.002014</td>\n",
       "      <td>-0.001818</td>\n",
       "      <td>-0.001717</td>\n",
       "    </tr>\n",
       "    <tr>\n",
       "      <th>noise</th>\n",
       "      <td>0.031419</td>\n",
       "      <td>-0.024921</td>\n",
       "      <td>0.033242</td>\n",
       "      <td>-0.002014</td>\n",
       "      <td>1.000000</td>\n",
       "      <td>0.047562</td>\n",
       "      <td>0.047253</td>\n",
       "    </tr>\n",
       "  </tbody>\n",
       "</table>\n",
       "</div>"
      ],
      "text/plain": [
       "             temperature  humidity       co2     light     noise  \\\n",
       "temperature     1.000000 -0.354831  0.398935 -0.002244  0.031419   \n",
       "humidity       -0.354831  1.000000 -0.055162 -0.009243 -0.024921   \n",
       "co2             0.398935 -0.055162  1.000000  0.004434  0.033242   \n",
       "light          -0.002244 -0.009243  0.004434  1.000000 -0.002014   \n",
       "noise           0.031419 -0.024921  0.033242 -0.002014  1.000000   \n",
       "\n",
       "             bluetooth_devices  bluetooth_non_personal_devices  \n",
       "temperature           0.657303                        0.654850  \n",
       "humidity             -0.455167                       -0.458281  \n",
       "co2                   0.493976                        0.489057  \n",
       "light                -0.001818                       -0.001717  \n",
       "noise                 0.047562                        0.047253  "
      ]
     },
     "execution_count": 58,
     "metadata": {},
     "output_type": "execute_result"
    }
   ],
   "source": [
    "#calculate the correlation matrix\n",
    "corrmat = full.corr()\n",
    "corrmat.head()"
   ]
  },
  {
   "cell_type": "code",
   "execution_count": null,
   "metadata": {
    "collapsed": true
   },
   "outputs": [],
   "source": [
    "#from the correlation form, we can see that no strong correlation between these variables...\n",
    "#next, to make things cooler, I'll try the heatmap function..."
   ]
  },
  {
   "cell_type": "code",
   "execution_count": 68,
   "metadata": {},
   "outputs": [
    {
     "data": {
      "image/png": "[encoded data removed]",
      "text/plain": [
       "<matplotlib.figure.Figure at 0x118ed1048>"
      ]
     },
     "metadata": {},
     "output_type": "display_data"
    }
   ],
   "source": [
    "# Draw the heatmap using seaborn\n",
    "sns.heatmap(corrmat, vmax=.8, square=True)\n",
    "plt.show()"
   ]
  },
  {
   "cell_type": "code",
   "execution_count": null,
   "metadata": {
    "collapsed": true
   },
   "outputs": [],
   "source": []
  }
 ],
 "metadata": {
  "kernelspec": {
   "display_name": "Python 3",
   "language": "python",
   "name": "python3"
  },
  "language_info": {
   "codemirror_mode": {
    "name": "ipython",
    "version": 3
   },
   "file_extension": ".py",
   "mimetype": "text/x-python",
   "name": "python",
   "nbconvert_exporter": "python",
   "pygments_lexer": "ipython3",
   "version": "3.6.0"
  }
 },
 "nbformat": 4,
 "nbformat_minor": 2
}
