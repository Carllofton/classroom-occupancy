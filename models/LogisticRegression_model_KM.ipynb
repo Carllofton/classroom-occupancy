{
 "cells": [
  {
   "cell_type": "markdown",
   "metadata": {},
   "source": [
    "# Logistic Regression Model"
   ]
  },
  {
   "cell_type": "markdown",
   "metadata": {},
   "source": [
    "### Dataset Information\n",
    "No. of Features: 12  \n",
    "No. of Instances: 4492  \n",
    "\n",
    "### Table of Contents<a name='table of contents'></a>\n",
    "\n",
    "1. [Data Ingestion](#data ingestion)\n",
    "2. [Features & Target Arrays](#features and target arrays)\n",
    "3. [Logistic Regression Model](#logreg)  \n",
    "    a. [Hyperparameter Tuning](#hyperparameter tuning)  \n",
    "    b. [Classification Report](#classification report)  \n",
    "    c. [Confusion Matrix](#confusion matrix)   \n",
    "    d. [Class Balance](#class balance)   \n",
    "4. [Save Model](#pickle)"
   ]
  },
  {
   "cell_type": "code",
   "execution_count": 1,
   "metadata": {
    "collapsed": true
   },
   "outputs": [],
   "source": [
    "%matplotlib inline\n",
    "\n",
    "import os\n",
    "import json\n",
    "import time\n",
    "import pickle\n",
    "import requests\n",
    "import numpy as np\n",
    "import pandas as pd\n",
    "\n",
    "import seaborn as sns\n",
    "import matplotlib.pyplot as plt\n",
    "import yellowbrick as yb\n",
    "sns.set_palette('RdBu', 10)"
   ]
  },
  {
   "cell_type": "markdown",
   "metadata": {},
   "source": [
    "## Data Ingestion<a name='data ingestion'></a>"
   ]
  },
  {
   "cell_type": "code",
   "execution_count": 2,
   "metadata": {
    "collapsed": true
   },
   "outputs": [],
   "source": [
    "URL = 'https://raw.githubusercontent.com/georgetown-analytics/classroom-occupancy/master/models/sensor_data_ml.csv'\n",
    "\n",
    "def fetch_data(fname='sensor_data_ml.csv'):\n",
    "    response = requests.get(URL)\n",
    "    outpath  = os.path.abspath(fname)\n",
    "    with open(outpath, 'wb') as f:\n",
    "        f.write(response.content)\n",
    "    \n",
    "    return outpath\n",
    "\n",
    "# Defining fetching data from the URL\n",
    "DATA = fetch_data()"
   ]
  },
  {
   "cell_type": "code",
   "execution_count": 3,
   "metadata": {
    "collapsed": true
   },
   "outputs": [],
   "source": [
    "# Import as pandas dataframe with DateTimeIndex: df\n",
    "df = pd.read_csv('sensor_data_ml.csv', index_col='datetime', parse_dates=True)"
   ]
  },
  {
   "cell_type": "code",
   "execution_count": 4,
   "metadata": {
    "collapsed": true
   },
   "outputs": [],
   "source": [
    "# Rename columns\n",
    "df.columns = ['temp', 'humidity', 'co2', 'light', 'light_st', 'noise',\n",
    "              'bluetooth', 'images', 'door', 'occupancy_count', 'occupancy_level']"
   ]
  },
  {
   "cell_type": "code",
   "execution_count": 5,
   "metadata": {},
   "outputs": [
    {
     "name": "stdout",
     "output_type": "stream",
     "text": [
      "<class 'pandas.core.frame.DataFrame'>\n",
      "DatetimeIndex: 4492 entries, 2017-03-25 09:05:00 to 2017-06-10 16:47:00\n",
      "Data columns (total 11 columns):\n",
      "temp               4492 non-null float64\n",
      "humidity           4492 non-null float64\n",
      "co2                4492 non-null float64\n",
      "light              4492 non-null float64\n",
      "light_st           4492 non-null float64\n",
      "noise              4492 non-null float64\n",
      "bluetooth          4492 non-null float64\n",
      "images             4492 non-null float64\n",
      "door               4492 non-null float64\n",
      "occupancy_count    4492 non-null float64\n",
      "occupancy_level    4492 non-null object\n",
      "dtypes: float64(10), object(1)\n",
      "memory usage: 421.1+ KB\n"
     ]
    },
    {
     "data": {
      "text/html": [
       "<div>\n",
       "<style>\n",
       "    .dataframe thead tr:only-child th {\n",
       "        text-align: right;\n",
       "    }\n",
       "\n",
       "    .dataframe thead th {\n",
       "        text-align: left;\n",
       "    }\n",
       "\n",
       "    .dataframe tbody tr th {\n",
       "        vertical-align: top;\n",
       "    }\n",
       "</style>\n",
       "<table border=\"1\" class=\"dataframe\">\n",
       "  <thead>\n",
       "    <tr style=\"text-align: right;\">\n",
       "      <th></th>\n",
       "      <th>temp</th>\n",
       "      <th>humidity</th>\n",
       "      <th>co2</th>\n",
       "      <th>light</th>\n",
       "      <th>light_st</th>\n",
       "      <th>noise</th>\n",
       "      <th>bluetooth</th>\n",
       "      <th>images</th>\n",
       "      <th>door</th>\n",
       "      <th>occupancy_count</th>\n",
       "      <th>occupancy_level</th>\n",
       "    </tr>\n",
       "    <tr>\n",
       "      <th>datetime</th>\n",
       "      <th></th>\n",
       "      <th></th>\n",
       "      <th></th>\n",
       "      <th></th>\n",
       "      <th></th>\n",
       "      <th></th>\n",
       "      <th></th>\n",
       "      <th></th>\n",
       "      <th></th>\n",
       "      <th></th>\n",
       "      <th></th>\n",
       "    </tr>\n",
       "  </thead>\n",
       "  <tbody>\n",
       "    <tr>\n",
       "      <th>2017-03-25 09:05:00</th>\n",
       "      <td>22.600000</td>\n",
       "      <td>36.900000</td>\n",
       "      <td>781.000000</td>\n",
       "      <td>430.000000</td>\n",
       "      <td>1.0</td>\n",
       "      <td>511.000000</td>\n",
       "      <td>1.000000</td>\n",
       "      <td>15.242697</td>\n",
       "      <td>0.000000</td>\n",
       "      <td>0.000000</td>\n",
       "      <td>empty</td>\n",
       "    </tr>\n",
       "    <tr>\n",
       "      <th>2017-03-25 09:06:00</th>\n",
       "      <td>23.800000</td>\n",
       "      <td>38.954167</td>\n",
       "      <td>765.465279</td>\n",
       "      <td>428.533744</td>\n",
       "      <td>1.0</td>\n",
       "      <td>503.515931</td>\n",
       "      <td>11.399457</td>\n",
       "      <td>15.242697</td>\n",
       "      <td>0.000000</td>\n",
       "      <td>0.000000</td>\n",
       "      <td>empty</td>\n",
       "    </tr>\n",
       "    <tr>\n",
       "      <th>2017-03-25 09:07:00</th>\n",
       "      <td>23.850000</td>\n",
       "      <td>38.900000</td>\n",
       "      <td>768.458333</td>\n",
       "      <td>423.576500</td>\n",
       "      <td>1.0</td>\n",
       "      <td>510.548913</td>\n",
       "      <td>19.916667</td>\n",
       "      <td>15.242697</td>\n",
       "      <td>0.083333</td>\n",
       "      <td>4.416667</td>\n",
       "      <td>low</td>\n",
       "    </tr>\n",
       "    <tr>\n",
       "      <th>2017-03-25 09:08:00</th>\n",
       "      <td>23.900000</td>\n",
       "      <td>38.766667</td>\n",
       "      <td>777.791667</td>\n",
       "      <td>423.053571</td>\n",
       "      <td>1.0</td>\n",
       "      <td>506.504630</td>\n",
       "      <td>29.750000</td>\n",
       "      <td>15.242697</td>\n",
       "      <td>0.000000</td>\n",
       "      <td>23.416667</td>\n",
       "      <td>mid-level</td>\n",
       "    </tr>\n",
       "    <tr>\n",
       "      <th>2017-03-25 09:09:00</th>\n",
       "      <td>23.908333</td>\n",
       "      <td>38.733333</td>\n",
       "      <td>770.864583</td>\n",
       "      <td>438.607904</td>\n",
       "      <td>1.0</td>\n",
       "      <td>500.092672</td>\n",
       "      <td>35.860577</td>\n",
       "      <td>15.242697</td>\n",
       "      <td>0.000000</td>\n",
       "      <td>30.000000</td>\n",
       "      <td>high</td>\n",
       "    </tr>\n",
       "  </tbody>\n",
       "</table>\n",
       "</div>"
      ],
      "text/plain": [
       "                          temp   humidity         co2       light  light_st  \\\n",
       "datetime                                                                      \n",
       "2017-03-25 09:05:00  22.600000  36.900000  781.000000  430.000000       1.0   \n",
       "2017-03-25 09:06:00  23.800000  38.954167  765.465279  428.533744       1.0   \n",
       "2017-03-25 09:07:00  23.850000  38.900000  768.458333  423.576500       1.0   \n",
       "2017-03-25 09:08:00  23.900000  38.766667  777.791667  423.053571       1.0   \n",
       "2017-03-25 09:09:00  23.908333  38.733333  770.864583  438.607904       1.0   \n",
       "\n",
       "                          noise  bluetooth     images      door  \\\n",
       "datetime                                                          \n",
       "2017-03-25 09:05:00  511.000000   1.000000  15.242697  0.000000   \n",
       "2017-03-25 09:06:00  503.515931  11.399457  15.242697  0.000000   \n",
       "2017-03-25 09:07:00  510.548913  19.916667  15.242697  0.083333   \n",
       "2017-03-25 09:08:00  506.504630  29.750000  15.242697  0.000000   \n",
       "2017-03-25 09:09:00  500.092672  35.860577  15.242697  0.000000   \n",
       "\n",
       "                     occupancy_count occupancy_level  \n",
       "datetime                                              \n",
       "2017-03-25 09:05:00         0.000000           empty  \n",
       "2017-03-25 09:06:00         0.000000           empty  \n",
       "2017-03-25 09:07:00         4.416667             low  \n",
       "2017-03-25 09:08:00        23.416667       mid-level  \n",
       "2017-03-25 09:09:00        30.000000            high  "
      ]
     },
     "execution_count": 5,
     "metadata": {},
     "output_type": "execute_result"
    }
   ],
   "source": [
    "df.info()\n",
    "df.head()"
   ]
  },
  {
   "cell_type": "markdown",
   "metadata": {},
   "source": [
    "## Features & Target Arrays<a name='features and target arrays'></a>"
   ]
  },
  {
   "cell_type": "code",
   "execution_count": 6,
   "metadata": {},
   "outputs": [
    {
     "data": {
      "text/plain": [
       "high         2881\n",
       "mid-level     781\n",
       "empty         482\n",
       "low           348\n",
       "Name: occupancy_level, dtype: int64"
      ]
     },
     "execution_count": 6,
     "metadata": {},
     "output_type": "execute_result"
    }
   ],
   "source": [
    "# Breakdown of classroom occupancy levels\n",
    "df.occupancy_level.value_counts()"
   ]
  },
  {
   "cell_type": "code",
   "execution_count": 7,
   "metadata": {},
   "outputs": [
    {
     "data": {
      "text/plain": [
       "array([0, 0, 2, ..., 2, 2, 2], dtype=int64)"
      ]
     },
     "execution_count": 7,
     "metadata": {},
     "output_type": "execute_result"
    }
   ],
   "source": [
    "# Encode multiclass target variable\n",
    "from sklearn.preprocessing import LabelEncoder\n",
    "\n",
    "encoder = LabelEncoder()\n",
    "encoder.fit_transform(df['occupancy_level'])"
   ]
  },
  {
   "cell_type": "code",
   "execution_count": 8,
   "metadata": {
    "collapsed": true
   },
   "outputs": [],
   "source": [
    "# Use TimeSeriesSplit to create training and test set split indices\n",
    "from sklearn.model_selection import TimeSeriesSplit\n",
    "\n",
    "X = df.drop('occupancy_level', axis=1).values\n",
    "y = df['occupancy_level']\n",
    "\n",
    "tscv = TimeSeriesSplit(n_splits=12)\n",
    "for train_index, test_index in tscv.split(X):\n",
    "    X_train, X_test = X[train_index], X[test_index]\n",
    "    y_train, y_test = y[train_index], y[test_index]"
   ]
  },
  {
   "cell_type": "markdown",
   "metadata": {},
   "source": [
    "## LogisticRegression Model<a name='logreg'></a>"
   ]
  },
  {
   "cell_type": "code",
   "execution_count": 11,
   "metadata": {
    "scrolled": true
   },
   "outputs": [
    {
     "name": "stdout",
     "output_type": "stream",
     "text": [
      "Logistic Regression Cross-Validation Scores\n",
      "[ 0.85579937  0.87147335  0.92789969  0.84012539  0.81504702  0.7492163\n",
      "  0.54858934  0.96551724  0.80250784  0.73040752  0.65830721  0.9153605 ]\n",
      "Average 12-Fold CV Score: 0.8067\n"
     ]
    }
   ],
   "source": [
    "# Initial cross-validation scores\n",
    "from sklearn.linear_model import LogisticRegression\n",
    "from sklearn.model_selection import cross_val_score\n",
    "\n",
    "# Fit logistic regression classifier onto the training data: logreg\n",
    "logreg = LogisticRegression().fit(X_train, y_train)\n",
    "\n",
    "# Print the 12-fold cross-validation scores\n",
    "cv_scores = cross_val_score(logreg, X_train, y_train, cv=tscv)\n",
    "\n",
    "print('Logistic Regression Cross-Validation Scores')\n",
    "print(cv_scores)\n",
    "print('Average 12-Fold CV Score: {:.4f}'.format(np.mean(cv_scores)))"
   ]
  },
  {
   "cell_type": "code",
   "execution_count": 12,
   "metadata": {},
   "outputs": [
    {
     "name": "stdout",
     "output_type": "stream",
     "text": [
      "Logistic Regression Model\n",
      "             precision    recall  f1-score   support\n",
      "\n",
      "      empty       1.00      1.00      1.00        61\n",
      "       high       0.94      1.00      0.97       198\n",
      "        low       0.85      1.00      0.92        41\n",
      "  mid-level       1.00      0.56      0.71        45\n",
      "\n",
      "avg / total       0.95      0.94      0.94       345\n",
      "\n",
      "Training set score: 0.9127\n",
      "Test set score: 0.9420\n"
     ]
    }
   ],
   "source": [
    "# Initial classification report\n",
    "from sklearn.metrics import classification_report\n",
    "\n",
    "# Predict the labels of the test set: y_pred\n",
    "y_pred = logreg.predict(X_test)\n",
    "\n",
    "# Compute and print the classification report and training and test scores\n",
    "print('Logistic Regression Model')\n",
    "print(classification_report(y_test, y_pred))\n",
    "print('Training set score: {:.4f}'.format(logreg.score(X_train, y_train)))\n",
    "print('Test set score: {:.4f}'.format(logreg.score(X_test, y_test)))"
   ]
  },
  {
   "cell_type": "markdown",
   "metadata": {},
   "source": [
    "### Hyperparameter Tuning<a name='hyperparameter tuning'></a>"
   ]
  },
  {
   "cell_type": "code",
   "execution_count": 13,
   "metadata": {},
   "outputs": [
    {
     "name": "stdout",
     "output_type": "stream",
     "text": [
      "Best estimator:\n",
      "Pipeline(steps=[('robustscaler', RobustScaler(copy=True, quantile_range=(25.0, 75.0), with_centering=True,\n",
      "       with_scaling=True)), ('logisticregression', LogisticRegression(C=120, class_weight='balanced', dual=False,\n",
      "          fit_intercept=True, intercept_scaling=1, max_iter=100,\n",
      "          multi_class='ovr', n_jobs=1, penalty='l2', random_state=None,\n",
      "          solver='liblinear', tol=0.0001, verbose=0, warm_start=False))])\n"
     ]
    }
   ],
   "source": [
    "from sklearn.model_selection import GridSearchCV\n",
    "from sklearn.pipeline import make_pipeline\n",
    "from sklearn.preprocessing import RobustScaler\n",
    "\n",
    "pipe = make_pipeline(RobustScaler(),\n",
    "                     LogisticRegression())\n",
    "\n",
    "param_grid = {'logisticregression__C': [0.01, 0.1, 1, 10, 100, 110, 120],\n",
    "              'logisticregression__class_weight':[None, 'balanced']}\n",
    "\n",
    "grid = GridSearchCV(pipe, param_grid, cv=tscv)\n",
    "\n",
    "logreg_clf = grid.fit(X_train, y_train)\n",
    "\n",
    "print('Best estimator:\\n{}'.format(logreg_clf.best_estimator_))"
   ]
  },
  {
   "cell_type": "code",
   "execution_count": 17,
   "metadata": {},
   "outputs": [
    {
     "name": "stdout",
     "output_type": "stream",
     "text": [
      "Logistic Regression Model\n",
      "Best Score: 0.8459\n",
      "Best parameters: {'logisticregression__C': 120, 'logisticregression__class_weight': 'balanced'}\n"
     ]
    }
   ],
   "source": [
    "print('Logistic Regression Model')\n",
    "print('Best Score: {:.4f}'.format(logreg_clf.best_score_))\n",
    "print('Best parameters: {}'.format(logreg_clf.best_params_))"
   ]
  },
  {
   "cell_type": "code",
   "execution_count": 15,
   "metadata": {},
   "outputs": [
    {
     "name": "stdout",
     "output_type": "stream",
     "text": [
      "Training set score: 0.9573\n",
      "Test set score: 0.9623\n"
     ]
    }
   ],
   "source": [
    "# Accuracy scores after tuning C parameter\n",
    "\n",
    "# Predict the labels of the test set: y_pred\n",
    "y_pred = logreg_clf.predict(X_test)\n",
    "\n",
    "print('Training set score: {:.4f}'.format(logreg_clf.score(X_train, y_train)))\n",
    "print('Test set score: {:.4f}'.format(logreg_clf.score(X_test, y_test)))"
   ]
  },
  {
   "cell_type": "markdown",
   "metadata": {},
   "source": [
    "### Classification Report<a name='classification report'></a>"
   ]
  },
  {
   "cell_type": "code",
   "execution_count": 16,
   "metadata": {},
   "outputs": [
    {
     "name": "stdout",
     "output_type": "stream",
     "text": [
      "Logistic Regression Model\n",
      "             precision    recall  f1-score   support\n",
      "\n",
      "      empty       1.00      1.00      1.00        61\n",
      "       high       1.00      1.00      1.00       198\n",
      "        low       0.76      1.00      0.86        41\n",
      "  mid-level       1.00      0.71      0.83        45\n",
      "\n",
      "avg / total       0.97      0.96      0.96       345\n",
      "\n"
     ]
    }
   ],
   "source": [
    "# Predict the labels of the test set: y_pred\n",
    "y_pred = logreg_clf.predict(X_test)\n",
    "\n",
    "# Compute and print the classification report and training and test scores\n",
    "print('Logistic Regression Model')\n",
    "print(classification_report(y_test, y_pred))"
   ]
  },
  {
   "cell_type": "code",
   "execution_count": 18,
   "metadata": {},
   "outputs": [
    {
     "name": "stdout",
     "output_type": "stream",
     "text": [
      "Logistic Regression F1 Scores\n",
      "F1 Score - micro: 0.9623\n",
      "F1 Score - weighted: 0.9617\n",
      "F1 Score - macro: 0.9236\n"
     ]
    }
   ],
   "source": [
    "from sklearn.metrics import f1_score, precision_score, recall_score\n",
    "\n",
    "print('Logistic Regression F1 Scores')\n",
    "print('F1 Score - micro: {:.4f}'.format(f1_score(y_test, y_pred, average='micro')))\n",
    "print('F1 Score - weighted: {:.4f}'.format(f1_score(y_test, y_pred, average='weighted')))\n",
    "print('F1 Score - macro: {:.4f}'.format(f1_score(y_test, y_pred, average='macro')))"
   ]
  },
  {
   "cell_type": "code",
   "execution_count": 19,
   "metadata": {},
   "outputs": [
    {
     "name": "stdout",
     "output_type": "stream",
     "text": [
      "Logistic Regression: Weighted\n",
      "F1 Score: 0.9623\n",
      "Precision Score: 0.9623\n",
      "Recall Score: 0.9623\n"
     ]
    }
   ],
   "source": [
    "print('Logistic Regression: Weighted')\n",
    "print('F1 Score: {:.4f}'.format(f1_score(y_test, y_pred, average='micro')))\n",
    "print('Precision Score: {:.4f}'.format(precision_score(y_test, y_pred, average='micro')))\n",
    "print('Recall Score: {:.4f}'.format(recall_score(y_test, y_pred, average='micro')))"
   ]
  },
  {
   "cell_type": "code",
   "execution_count": 20,
   "metadata": {},
   "outputs": [
    {
     "data": {
      "image/png": "[encoded data removed]",
      "text/plain": [
       "<matplotlib.figure.Figure at 0xbb154a8>"
      ]
     },
     "metadata": {},
     "output_type": "display_data"
    }
   ],
   "source": [
    "from yellowbrick.classifier import ClassificationReport\n",
    "classes = ['Empty', 'High', 'Low', 'Mid-Level']\n",
    "\n",
    "fig = plt.figure()\n",
    "visualizer = ClassificationReport(logreg_clf, classes=classes)\n",
    "visualizer.fit(X_train, y_train)\n",
    "visualizer.score(X_test, y_test)\n",
    "g = visualizer.poof()\n",
    "#plt.savefig('ml_graphs/logreg_classification_report.png')"
   ]
  },
  {
   "cell_type": "markdown",
   "metadata": {},
   "source": [
    "### Confusion Matrix <a name='confusion matrix'></a>"
   ]
  },
  {
   "cell_type": "code",
   "execution_count": 21,
   "metadata": {},
   "outputs": [
    {
     "name": "stdout",
     "output_type": "stream",
     "text": [
      "Logistic Regression Confusion Matrix\n",
      "[[ 61   0   0   0]\n",
      " [  0 198   0   0]\n",
      " [  0   0  41   0]\n",
      " [  0   0  13  32]]\n"
     ]
    }
   ],
   "source": [
    "from sklearn.metrics import confusion_matrix\n",
    "\n",
    "print('Logistic Regression Confusion Matrix')\n",
    "print(confusion_matrix(y_test, y_pred))"
   ]
  },
  {
   "cell_type": "markdown",
   "metadata": {},
   "source": [
    "### Class Balance Plot<a name='class balance'></a>"
   ]
  },
  {
   "cell_type": "code",
   "execution_count": 22,
   "metadata": {},
   "outputs": [
    {
     "data": {
      "image/png": "[encoded data removed]",
      "text/plain": [
       "<matplotlib.figure.Figure at 0xbecd550>"
      ]
     },
     "metadata": {},
     "output_type": "display_data"
    }
   ],
   "source": [
    "from yellowbrick.classifier import ClassBalance\n",
    "classes = ['Empty', 'High', 'Low', 'Mid-Level']\n",
    "\n",
    "visualizer = ClassBalance(logreg_clf, classes=classes)\n",
    "\n",
    "fig = plt.figure()\n",
    "visualizer.fit(X_train, y_train)\n",
    "visualizer.score(X_test, y_test)\n",
    "g = visualizer.poof()\n",
    "#plt.savefig('ml_graphs/logreg_class_balance.png')"
   ]
  },
  {
   "cell_type": "markdown",
   "metadata": {},
   "source": [
    "## Save Model<a name='pickle'></a>"
   ]
  },
  {
   "cell_type": "code",
   "execution_count": 23,
   "metadata": {
    "collapsed": true
   },
   "outputs": [],
   "source": [
    "import pickle\n",
    "\n",
    "logreg_model = 'logreg_model.sav'\n",
    "\n",
    "# Save fitted model to disk\n",
    "pickle.dump(logreg_clf, open(logreg_model, 'wb'))"
   ]
  },
  {
   "cell_type": "markdown",
   "metadata": {},
   "source": [
    "### [Return to Table of Contents](#table of contents)"
   ]
  },
  {
   "cell_type": "code",
   "execution_count": 24,
   "metadata": {},
   "outputs": [
    {
     "name": "stdout",
     "output_type": "stream",
     "text": [
      "0.96231884058\n"
     ]
    }
   ],
   "source": [
    "loaded_model = pickle.load(open(logreg_model, 'rb'))\n",
    "\n",
    "result = loaded_model.score(X_test, y_test)\n",
    "print(result)"
   ]
  }
 ],
 "metadata": {
  "kernelspec": {
   "display_name": "Python [Root]",
   "language": "python",
   "name": "Python [Root]"
  },
  "language_info": {
   "codemirror_mode": {
    "name": "ipython",
    "version": 3
   },
   "file_extension": ".py",
   "mimetype": "text/x-python",
   "name": "python",
   "nbconvert_exporter": "python",
   "pygments_lexer": "ipython3",
   "version": "3.5.3"
  }
 },
 "nbformat": 4,
 "nbformat_minor": 1
}
