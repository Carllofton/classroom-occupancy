{
 "cells": [
  {
   "cell_type": "markdown",
   "metadata": {},
   "source": [
    "## Data Ingestion and Transformation"
   ]
  },
  {
   "cell_type": "code",
   "execution_count": 5,
   "metadata": {
    "collapsed": true
   },
   "outputs": [],
   "source": [
    "%matplotlib inline\n",
    "\n",
    "import os\n",
    "import json\n",
    "import time\n",
    "\n",
    "import numpy as np\n",
    "import pandas as pd\n",
    "import matplotlib.pyplot as plt"
   ]
  },
  {
   "cell_type": "code",
   "execution_count": 6,
   "metadata": {},
   "outputs": [
    {
     "data": {
      "text/html": [
       "<div>\n",
       "<table border=\"1\" class=\"dataframe\">\n",
       "  <thead>\n",
       "    <tr style=\"text-align: right;\">\n",
       "      <th></th>\n",
       "      <th>datetime</th>\n",
       "      <th>temperature</th>\n",
       "      <th>temperature_f</th>\n",
       "      <th>humidity</th>\n",
       "      <th>co2</th>\n",
       "      <th>light</th>\n",
       "      <th>light_status</th>\n",
       "      <th>noise</th>\n",
       "      <th>bluetooth_devices</th>\n",
       "      <th>image_hist_change</th>\n",
       "      <th>door_status</th>\n",
       "      <th>occupancy_count</th>\n",
       "      <th>occupancy_category</th>\n",
       "    </tr>\n",
       "  </thead>\n",
       "  <tbody>\n",
       "    <tr>\n",
       "      <th>0</th>\n",
       "      <td>2017-03-25 09:05:00</td>\n",
       "      <td>22.60</td>\n",
       "      <td>72.68</td>\n",
       "      <td>36.9</td>\n",
       "      <td>781.0</td>\n",
       "      <td>430.000000</td>\n",
       "      <td>light-on</td>\n",
       "      <td>511.000000</td>\n",
       "      <td>1.0</td>\n",
       "      <td>15.242697</td>\n",
       "      <td>closed</td>\n",
       "      <td>0.0</td>\n",
       "      <td>very-low</td>\n",
       "    </tr>\n",
       "    <tr>\n",
       "      <th>2</th>\n",
       "      <td>2017-03-25 09:06:00</td>\n",
       "      <td>23.80</td>\n",
       "      <td>74.84</td>\n",
       "      <td>38.9</td>\n",
       "      <td>789.0</td>\n",
       "      <td>437.000000</td>\n",
       "      <td>light-on</td>\n",
       "      <td>491.000000</td>\n",
       "      <td>16.0</td>\n",
       "      <td>15.242697</td>\n",
       "      <td>closed</td>\n",
       "      <td>0.0</td>\n",
       "      <td>very-low</td>\n",
       "    </tr>\n",
       "    <tr>\n",
       "      <th>4</th>\n",
       "      <td>2017-03-25 09:07:00</td>\n",
       "      <td>23.85</td>\n",
       "      <td>74.93</td>\n",
       "      <td>38.8</td>\n",
       "      <td>766.0</td>\n",
       "      <td>421.653846</td>\n",
       "      <td>light-on</td>\n",
       "      <td>506.586957</td>\n",
       "      <td>25.0</td>\n",
       "      <td>15.242697</td>\n",
       "      <td>closed</td>\n",
       "      <td>15.0</td>\n",
       "      <td>low</td>\n",
       "    </tr>\n",
       "  </tbody>\n",
       "</table>\n",
       "</div>"
      ],
      "text/plain": [
       "              datetime  temperature  temperature_f  humidity    co2  \\\n",
       "0  2017-03-25 09:05:00        22.60          72.68      36.9  781.0   \n",
       "2  2017-03-25 09:06:00        23.80          74.84      38.9  789.0   \n",
       "4  2017-03-25 09:07:00        23.85          74.93      38.8  766.0   \n",
       "\n",
       "        light light_status       noise  bluetooth_devices  image_hist_change  \\\n",
       "0  430.000000     light-on  511.000000                1.0          15.242697   \n",
       "2  437.000000     light-on  491.000000               16.0          15.242697   \n",
       "4  421.653846     light-on  506.586957               25.0          15.242697   \n",
       "\n",
       "  door_status  occupancy_count occupancy_category  \n",
       "0      closed              0.0           very-low  \n",
       "2      closed              0.0           very-low  \n",
       "4      closed             15.0                low  "
      ]
     },
     "execution_count": 6,
     "metadata": {},
     "output_type": "execute_result"
    }
   ],
   "source": [
    "# Load dataset\n",
    "df = pd.read_csv('dataset-1min.csv')\n",
    "# Drop duplicates\n",
    "df = df.drop_duplicates()\n",
    "df.head(3)"
   ]
  },
  {
   "cell_type": "code",
   "execution_count": 7,
   "metadata": {},
   "outputs": [
    {
     "name": "stdout",
     "output_type": "stream",
     "text": [
      "8332 instances with 13 features\n",
      "\n",
      "occupancy_category\n",
      "fair         351\n",
      "high        3342\n",
      "low          210\n",
      "very-low    4429\n",
      "Name: occupancy_category, dtype: int64\n"
     ]
    }
   ],
   "source": [
    "# Determine the shape of the data\n",
    "print(\"{} instances with {} features\\n\".format(*df.shape))\n",
    "\n",
    "# Determine the frequency of each class\n",
    "print(df.groupby('occupancy_category')['occupancy_category'].count())"
   ]
  },
  {
   "cell_type": "code",
   "execution_count": 8,
   "metadata": {},
   "outputs": [
    {
     "data": {
      "text/html": [
       "<div>\n",
       "<table border=\"1\" class=\"dataframe\">\n",
       "  <thead>\n",
       "    <tr style=\"text-align: right;\">\n",
       "      <th></th>\n",
       "      <th>datetime</th>\n",
       "      <th>temperature</th>\n",
       "      <th>temperature_f</th>\n",
       "      <th>humidity</th>\n",
       "      <th>co2</th>\n",
       "      <th>light</th>\n",
       "      <th>light_status</th>\n",
       "      <th>noise</th>\n",
       "      <th>bluetooth_devices</th>\n",
       "      <th>image_hist_change</th>\n",
       "      <th>door_status</th>\n",
       "      <th>occupancy_count</th>\n",
       "      <th>occupancy_category</th>\n",
       "      <th>occupancy_code</th>\n",
       "    </tr>\n",
       "  </thead>\n",
       "  <tbody>\n",
       "    <tr>\n",
       "      <th>0</th>\n",
       "      <td>2017-03-25 09:05:00</td>\n",
       "      <td>22.60</td>\n",
       "      <td>72.68</td>\n",
       "      <td>36.9</td>\n",
       "      <td>781.0</td>\n",
       "      <td>430.000000</td>\n",
       "      <td>light-on</td>\n",
       "      <td>511.000000</td>\n",
       "      <td>1.0</td>\n",
       "      <td>15.242697</td>\n",
       "      <td>closed</td>\n",
       "      <td>0.0</td>\n",
       "      <td>very-low</td>\n",
       "      <td>1</td>\n",
       "    </tr>\n",
       "    <tr>\n",
       "      <th>2</th>\n",
       "      <td>2017-03-25 09:06:00</td>\n",
       "      <td>23.80</td>\n",
       "      <td>74.84</td>\n",
       "      <td>38.9</td>\n",
       "      <td>789.0</td>\n",
       "      <td>437.000000</td>\n",
       "      <td>light-on</td>\n",
       "      <td>491.000000</td>\n",
       "      <td>16.0</td>\n",
       "      <td>15.242697</td>\n",
       "      <td>closed</td>\n",
       "      <td>0.0</td>\n",
       "      <td>very-low</td>\n",
       "      <td>1</td>\n",
       "    </tr>\n",
       "    <tr>\n",
       "      <th>4</th>\n",
       "      <td>2017-03-25 09:07:00</td>\n",
       "      <td>23.85</td>\n",
       "      <td>74.93</td>\n",
       "      <td>38.8</td>\n",
       "      <td>766.0</td>\n",
       "      <td>421.653846</td>\n",
       "      <td>light-on</td>\n",
       "      <td>506.586957</td>\n",
       "      <td>25.0</td>\n",
       "      <td>15.242697</td>\n",
       "      <td>closed</td>\n",
       "      <td>15.0</td>\n",
       "      <td>low</td>\n",
       "      <td>2</td>\n",
       "    </tr>\n",
       "  </tbody>\n",
       "</table>\n",
       "</div>"
      ],
      "text/plain": [
       "              datetime  temperature  temperature_f  humidity    co2  \\\n",
       "0  2017-03-25 09:05:00        22.60          72.68      36.9  781.0   \n",
       "2  2017-03-25 09:06:00        23.80          74.84      38.9  789.0   \n",
       "4  2017-03-25 09:07:00        23.85          74.93      38.8  766.0   \n",
       "\n",
       "        light light_status       noise  bluetooth_devices  image_hist_change  \\\n",
       "0  430.000000     light-on  511.000000                1.0          15.242697   \n",
       "2  437.000000     light-on  491.000000               16.0          15.242697   \n",
       "4  421.653846     light-on  506.586957               25.0          15.242697   \n",
       "\n",
       "  door_status  occupancy_count occupancy_category occupancy_code  \n",
       "0      closed              0.0           very-low              1  \n",
       "2      closed              0.0           very-low              1  \n",
       "4      closed             15.0                low              2  "
      ]
     },
     "execution_count": 8,
     "metadata": {},
     "output_type": "execute_result"
    }
   ],
   "source": [
    "# Helper function to encode occupancy_category based on the number of people \n",
    "def occupancy(df):\n",
    "  if df['occupancy_category'] == 'very-low':\n",
    "    return '1'\n",
    "  elif df['occupancy_category'] == 'low':\n",
    "    return '2'\n",
    "  elif df['occupancy_category'] == 'fair':\n",
    "    return '3'\n",
    "  else:\n",
    "    return '4'\n",
    "\n",
    "df['occupancy_code'] = df.apply(occupancy, axis=1)\n",
    "df.head(3)"
   ]
  },
  {
   "cell_type": "code",
   "execution_count": 9,
   "metadata": {},
   "outputs": [
    {
     "data": {
      "text/plain": [
       "(8332, 7)"
      ]
     },
     "execution_count": 9,
     "metadata": {},
     "output_type": "execute_result"
    }
   ],
   "source": [
    "# Read the data into a DataFrame\n",
    "features = [\n",
    "    'temperature',\n",
    "    'humidity',\n",
    "    'co2',\n",
    "    'light',\n",
    "    'noise',\n",
    "    'bluetooth_devices',\n",
    "    'occupancy_code'\n",
    "]\n",
    "classes = [\n",
    "    'very-low',\n",
    "    'low',\n",
    "    'fair',\n",
    "    'high'\n",
    "] \n",
    "\n",
    "df = df[features]\n",
    "df.shape"
   ]
  },
  {
   "cell_type": "code",
   "execution_count": 10,
   "metadata": {},
   "outputs": [
    {
     "name": "stdout",
     "output_type": "stream",
     "text": [
      "(8332, 6)\n",
      "(8332,)\n"
     ]
    }
   ],
   "source": [
    "# Extract the target from the data\n",
    "data   = df.ix[:, 0:-1]\n",
    "target = df.ix[:, -1]\n",
    "\n",
    "print(data.shape)\n",
    "print(target.shape)"
   ]
  },
  {
   "cell_type": "code",
   "execution_count": 11,
   "metadata": {
    "collapsed": true
   },
   "outputs": [],
   "source": [
    "# Split into test and train data\n",
    "from sklearn.model_selection import train_test_split\n",
    "X_train, X_test, y_train, y_test = train_test_split(data, target)"
   ]
  },
  {
   "cell_type": "code",
   "execution_count": 12,
   "metadata": {
    "collapsed": true
   },
   "outputs": [],
   "source": [
    "# Standarize data\n",
    "from sklearn.preprocessing import StandardScaler\n",
    "standard_scaler = StandardScaler()\n",
    "X_train = standard_scaler.fit_transform(X_train)\n",
    "X_test = standard_scaler.transform(X_test)"
   ]
  },
  {
   "cell_type": "markdown",
   "metadata": {},
   "source": [
    "## Classification Models Evaluation"
   ]
  },
  {
   "cell_type": "code",
   "execution_count": 13,
   "metadata": {},
   "outputs": [],
   "source": [
    "from sklearn import metrics\n",
    "from sklearn.cross_validation import KFold\n",
    "from yellowbrick.classifier import ClassificationReport, ROCAUC, ClassBalance\n",
    "\n",
    "from sklearn.svm import SVC\n",
    "from sklearn.neighbors import KNeighborsClassifier\n",
    "from sklearn.ensemble import RandomForestClassifier"
   ]
  },
  {
   "cell_type": "code",
   "execution_count": 14,
   "metadata": {
    "collapsed": true
   },
   "outputs": [],
   "source": [
    "def fit_and_evaluate(dataset, model, label, **kwargs):\n",
    "    \"\"\"\n",
    "    Because of the Scikit-Learn API, we can create a function to\n",
    "    do all of the fit and evaluate work on our behalf!\n",
    "    \"\"\"\n",
    "    start  = time.time() # Start the clock! \n",
    "    scores = {'precision':[], 'recall':[], 'accuracy':[], 'f1':[]}\n",
    "    \n",
    "    for train, test in KFold(data.shape[0], n_folds=12, shuffle=True):\n",
    "        \n",
    "        estimator = model(**kwargs)\n",
    "        estimator.fit(X_train, y_train)\n",
    "        \n",
    "        expected  = y_test\n",
    "        predicted = estimator.predict(X_test)\n",
    "        \n",
    "        # Append our scores to the tracker\n",
    "        scores['precision'].append(metrics.precision_score(expected, predicted, average=\"weighted\"))\n",
    "        scores['recall'].append(metrics.recall_score(expected, predicted, average=\"weighted\"))\n",
    "        scores['accuracy'].append(metrics.accuracy_score(expected, predicted))\n",
    "        scores['f1'].append(metrics.f1_score(expected, predicted, average=\"weighted\"))\n",
    "\n",
    "    # Report\n",
    "    print(\"Build and Validation of {} took {:0.3f} seconds\".format(label, time.time()-start))\n",
    "    print(\"Validation scores are as follows:\\n\")\n",
    "    print(pd.DataFrame(scores).mean())\n"
   ]
  },
  {
   "cell_type": "markdown",
   "metadata": {},
   "source": [
    "### Support Vector Classfier"
   ]
  },
  {
   "cell_type": "code",
   "execution_count": 15,
   "metadata": {},
   "outputs": [
    {
     "name": "stdout",
     "output_type": "stream",
     "text": [
      "Build and Validation of SVM Classifier took 5.500 seconds\n",
      "Validation scores are as follows:\n",
      "\n",
      "accuracy     0.924148\n",
      "f1           0.898368\n",
      "precision    0.929549\n",
      "recall       0.924148\n",
      "dtype: float64\n"
     ]
    }
   ],
   "source": [
    "# Perform SVC Classification\n",
    "svc = SVC()\n",
    "fit_and_evaluate(df, SVC, \"SVM Classifier\")"
   ]
  },
  {
   "cell_type": "code",
   "execution_count": 16,
   "metadata": {},
   "outputs": [
    {
     "data": {
      "image/png": "[encoded data removed]",
      "text/plain": [
       "<matplotlib.figure.Figure at 0x1113cbe80>"
      ]
     },
     "metadata": {},
     "output_type": "display_data"
    }
   ],
   "source": [
    "visualizer = ClassificationReport(svc, classes=classes)\n",
    "\n",
    "visualizer.fit(X_train, y_train)  \n",
    "visualizer.score(X_test, y_test)  \n",
    "g = visualizer.poof()"
   ]
  },
  {
   "cell_type": "markdown",
   "metadata": {},
   "source": [
    "### K Nearest Neighbors Classifier"
   ]
  },
  {
   "cell_type": "code",
   "execution_count": 28,
   "metadata": {},
   "outputs": [
    {
     "name": "stdout",
     "output_type": "stream",
     "text": [
      "Build and Validation of kNN Classifier took 0.780 seconds\n",
      "Validation scores are as follows:\n",
      "\n",
      "accuracy     0.944311\n",
      "f1           0.937485\n",
      "precision    0.941137\n",
      "recall       0.944311\n",
      "dtype: float64\n"
     ]
    }
   ],
   "source": [
    "# Perform kNN Classification\n",
    "knn = KNeighborsClassifier()\n",
    "fit_and_evaluate(df, KNeighborsClassifier, \"kNN Classifier\", n_neighbors=12)"
   ]
  },
  {
   "cell_type": "code",
   "execution_count": 29,
   "metadata": {},
   "outputs": [
    {
     "data": {
      "image/png": "[encoded data removed]",
      "text/plain": [
       "<matplotlib.figure.Figure at 0x112b72860>"
      ]
     },
     "metadata": {},
     "output_type": "display_data"
    }
   ],
   "source": [
    "visualizer = ClassificationReport(knn, classes=classes)\n",
    "\n",
    "visualizer.fit(X_train, y_train)  \n",
    "visualizer.score(X_test, y_test)  \n",
    "g = visualizer.poof()"
   ]
  },
  {
   "cell_type": "markdown",
   "metadata": {},
   "source": [
    "### Random Forest Classfier"
   ]
  },
  {
   "cell_type": "code",
   "execution_count": 30,
   "metadata": {},
   "outputs": [
    {
     "name": "stdout",
     "output_type": "stream",
     "text": [
      "Build and Validation of Random Forest Classifier took 1.338 seconds\n",
      "Validation scores are as follows:\n",
      "\n",
      "accuracy     0.955593\n",
      "f1           0.953264\n",
      "precision    0.952740\n",
      "recall       0.955593\n",
      "dtype: float64\n"
     ]
    }
   ],
   "source": [
    "# Perform Random Forest Classification\n",
    "rfc = RandomForestClassifier()\n",
    "fit_and_evaluate(df, RandomForestClassifier, \"Random Forest Classifier\")"
   ]
  },
  {
   "cell_type": "code",
   "execution_count": 31,
   "metadata": {},
   "outputs": [
    {
     "data": {
      "image/png": "[encoded data removed]",
      "text/plain": [
       "<matplotlib.figure.Figure at 0x115fbab70>"
      ]
     },
     "metadata": {},
     "output_type": "display_data"
    }
   ],
   "source": [
    "visualizer = ClassificationReport(rfc, classes=classes)\n",
    "\n",
    "visualizer.fit(X_train, y_train)  \n",
    "visualizer.score(X_test, y_test)  \n",
    "g = visualizer.poof()"
   ]
  },
  {
   "cell_type": "code",
   "execution_count": null,
   "metadata": {
    "collapsed": true
   },
   "outputs": [],
   "source": []
  }
 ],
 "metadata": {
  "kernelspec": {
   "display_name": "Python 3",
   "language": "python",
   "name": "python3"
  },
  "language_info": {
   "codemirror_mode": {
    "name": "ipython",
    "version": 3
   },
   "file_extension": ".py",
   "mimetype": "text/x-python",
   "name": "python",
   "nbconvert_exporter": "python",
   "pygments_lexer": "ipython3",
   "version": "3.6.0"
  }
 },
 "nbformat": 4,
 "nbformat_minor": 2
}
