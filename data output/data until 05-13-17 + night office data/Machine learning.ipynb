{
 "cells": [
  {
   "cell_type": "code",
   "execution_count": 47,
   "metadata": {
    "collapsed": false
   },
   "outputs": [],
   "source": [
    "# Import Libraries\n",
    "\n",
    "import numpy as np\n",
    "import pandas as pd\n",
    "from pandas.tools.plotting import scatter_matrix\n",
    "import matplotlib.pyplot as plt\n",
    "from sklearn import model_selection\n",
    "from sklearn.metrics import classification_report\n",
    "from sklearn.metrics import confusion_matrix\n",
    "from sklearn.metrics import accuracy_score\n",
    "from sklearn.linear_model import LogisticRegression\n",
    "from sklearn.tree import DecisionTreeClassifier\n",
    "from sklearn.neighbors import KNeighborsClassifier\n",
    "from sklearn.discriminant_analysis import LinearDiscriminantAnalysis\n",
    "from sklearn.naive_bayes import GaussianNB\n",
    "from sklearn.svm import SVC\n",
    "\n",
    "import seaborn as sns\n",
    "sns.set()\n",
    "\n",
    "# Load Dataset\n",
    "\n",
    "dataset = pd.read_csv('sensor_data.csv', usecols=['datetime', 'temperature', 'co2', 'light', 'noise'])\n",
    "\n"
   ]
  },
  {
   "cell_type": "code",
   "execution_count": 48,
   "metadata": {
    "collapsed": false
   },
   "outputs": [],
   "source": [
    "df = pd.read_csv('sensor_data.csv', index_col='datetime', parse_dates=True)"
   ]
  },
  {
   "cell_type": "code",
   "execution_count": 49,
   "metadata": {
    "collapsed": false
   },
   "outputs": [
    {
     "name": "stdout",
     "output_type": "stream",
     "text": [
      "<class 'pandas.core.frame.DataFrame'>\n",
      "DatetimeIndex: 37989 entries, 2017-03-25 09:05:58 to 2017-05-13 16:13:20\n",
      "Data columns (total 9 columns):\n",
      "location                          37989 non-null object\n",
      "loc_CO2                           37989 non-null object\n",
      "temperature                       37989 non-null float64\n",
      "humidity                          37989 non-null float64\n",
      "co2                               37989 non-null float64\n",
      "light                             37989 non-null float64\n",
      "noise                             37989 non-null float64\n",
      "bluetooth_devices                 37989 non-null int64\n",
      "bluetooth_non_personal_devices    29900 non-null float64\n",
      "dtypes: float64(6), int64(1), object(2)\n",
      "memory usage: 2.9+ MB\n"
     ]
    }
   ],
   "source": [
    "df.info()"
   ]
  },
  {
   "cell_type": "code",
   "execution_count": 50,
   "metadata": {
    "collapsed": false
   },
   "outputs": [],
   "source": [
    "# Drop location columns\n",
    "df.drop(df.columns[[0,1]], axis=1, inplace=True)"
   ]
  },
  {
   "cell_type": "code",
   "execution_count": 51,
   "metadata": {
    "collapsed": false
   },
   "outputs": [
    {
     "name": "stdout",
     "output_type": "stream",
     "text": [
      "<class 'pandas.core.frame.DataFrame'>\n",
      "DatetimeIndex: 37989 entries, 2017-03-25 09:05:58 to 2017-05-13 16:13:20\n",
      "Data columns (total 7 columns):\n",
      "temperature                       37989 non-null float64\n",
      "humidity                          37989 non-null float64\n",
      "co2                               37989 non-null float64\n",
      "light                             37989 non-null float64\n",
      "noise                             37989 non-null float64\n",
      "bluetooth_devices                 37989 non-null int64\n",
      "bluetooth_non_personal_devices    29900 non-null float64\n",
      "dtypes: float64(6), int64(1)\n",
      "memory usage: 2.3 MB\n"
     ]
    }
   ],
   "source": [
    "df.info()"
   ]
  },
  {
   "cell_type": "code",
   "execution_count": 52,
   "metadata": {
    "collapsed": false
   },
   "outputs": [
    {
     "name": "stdout",
     "output_type": "stream",
     "text": [
      "<class 'pandas.core.frame.DataFrame'>\n",
      "DatetimeIndex: 37989 entries, 2017-03-25 09:05:58 to 2017-05-13 16:13:20\n",
      "Data columns (total 5 columns):\n",
      "temperature    37989 non-null float64\n",
      "humidity       37989 non-null float64\n",
      "co2            37989 non-null float64\n",
      "light          37989 non-null float64\n",
      "noise          37989 non-null float64\n",
      "dtypes: float64(5)\n",
      "memory usage: 1.7 MB\n"
     ]
    }
   ],
   "source": [
    "df.drop(df.columns[[-1, -2]], axis=1, inplace=True)\n",
    "df.info()"
   ]
  },
  {
   "cell_type": "code",
   "execution_count": 53,
   "metadata": {
    "collapsed": true
   },
   "outputs": [],
   "source": [
    "df.drop(df.columns[[1]], axis=1, inplace=True)"
   ]
  },
  {
   "cell_type": "code",
   "execution_count": 54,
   "metadata": {
    "collapsed": false
   },
   "outputs": [
    {
     "name": "stdout",
     "output_type": "stream",
     "text": [
      "<class 'pandas.core.frame.DataFrame'>\n",
      "DatetimeIndex: 37989 entries, 2017-03-25 09:05:58 to 2017-05-13 16:13:20\n",
      "Data columns (total 4 columns):\n",
      "temperature    37989 non-null float64\n",
      "co2            37989 non-null float64\n",
      "light          37989 non-null float64\n",
      "noise          37989 non-null float64\n",
      "dtypes: float64(4)\n",
      "memory usage: 1.4 MB\n"
     ]
    }
   ],
   "source": [
    "df.info()"
   ]
  },
  {
   "cell_type": "code",
   "execution_count": 55,
   "metadata": {
    "collapsed": false,
    "scrolled": false
   },
   "outputs": [
    {
     "name": "stdout",
     "output_type": "stream",
     "text": [
      "(37989, 5)\n"
     ]
    }
   ],
   "source": [
    "# Shape\n",
    "\n",
    "print(dataset.shape)"
   ]
  },
  {
   "cell_type": "code",
   "execution_count": 56,
   "metadata": {
    "collapsed": false
   },
   "outputs": [
    {
     "data": {
      "text/html": [
       "<div>\n",
       "<table border=\"1\" class=\"dataframe\">\n",
       "  <thead>\n",
       "    <tr style=\"text-align: right;\">\n",
       "      <th></th>\n",
       "      <th>datetime</th>\n",
       "      <th>temperature</th>\n",
       "      <th>co2</th>\n",
       "      <th>light</th>\n",
       "      <th>noise</th>\n",
       "    </tr>\n",
       "  </thead>\n",
       "  <tbody>\n",
       "    <tr>\n",
       "      <th>0</th>\n",
       "      <td>2017-03-25 09:05:58</td>\n",
       "      <td>22.6</td>\n",
       "      <td>781.0</td>\n",
       "      <td>430.0</td>\n",
       "      <td>511.0</td>\n",
       "    </tr>\n",
       "    <tr>\n",
       "      <th>1</th>\n",
       "      <td>2017-03-25 09:06:04</td>\n",
       "      <td>23.8</td>\n",
       "      <td>767.0</td>\n",
       "      <td>448.0</td>\n",
       "      <td>510.0</td>\n",
       "    </tr>\n",
       "    <tr>\n",
       "      <th>2</th>\n",
       "      <td>2017-03-25 09:06:10</td>\n",
       "      <td>23.8</td>\n",
       "      <td>754.0</td>\n",
       "      <td>423.0</td>\n",
       "      <td>511.0</td>\n",
       "    </tr>\n",
       "    <tr>\n",
       "      <th>3</th>\n",
       "      <td>2017-03-25 09:06:15</td>\n",
       "      <td>23.8</td>\n",
       "      <td>768.0</td>\n",
       "      <td>412.0</td>\n",
       "      <td>492.0</td>\n",
       "    </tr>\n",
       "    <tr>\n",
       "      <th>4</th>\n",
       "      <td>2017-03-25 09:06:21</td>\n",
       "      <td>23.8</td>\n",
       "      <td>758.0</td>\n",
       "      <td>428.0</td>\n",
       "      <td>491.0</td>\n",
       "    </tr>\n",
       "    <tr>\n",
       "      <th>5</th>\n",
       "      <td>2017-03-25 09:06:27</td>\n",
       "      <td>23.8</td>\n",
       "      <td>776.0</td>\n",
       "      <td>419.0</td>\n",
       "      <td>500.0</td>\n",
       "    </tr>\n",
       "    <tr>\n",
       "      <th>6</th>\n",
       "      <td>2017-03-25 09:06:33</td>\n",
       "      <td>23.8</td>\n",
       "      <td>755.0</td>\n",
       "      <td>423.0</td>\n",
       "      <td>503.0</td>\n",
       "    </tr>\n",
       "    <tr>\n",
       "      <th>7</th>\n",
       "      <td>2017-03-25 09:06:38</td>\n",
       "      <td>23.8</td>\n",
       "      <td>755.0</td>\n",
       "      <td>409.0</td>\n",
       "      <td>501.0</td>\n",
       "    </tr>\n",
       "    <tr>\n",
       "      <th>8</th>\n",
       "      <td>2017-03-25 09:06:44</td>\n",
       "      <td>23.8</td>\n",
       "      <td>766.0</td>\n",
       "      <td>447.0</td>\n",
       "      <td>506.0</td>\n",
       "    </tr>\n",
       "    <tr>\n",
       "      <th>9</th>\n",
       "      <td>2017-03-25 09:06:50</td>\n",
       "      <td>23.8</td>\n",
       "      <td>771.0</td>\n",
       "      <td>423.0</td>\n",
       "      <td>515.0</td>\n",
       "    </tr>\n",
       "    <tr>\n",
       "      <th>10</th>\n",
       "      <td>2017-03-25 09:06:56</td>\n",
       "      <td>23.8</td>\n",
       "      <td>789.0</td>\n",
       "      <td>437.0</td>\n",
       "      <td>491.0</td>\n",
       "    </tr>\n",
       "    <tr>\n",
       "      <th>11</th>\n",
       "      <td>2017-03-25 09:07:03</td>\n",
       "      <td>23.8</td>\n",
       "      <td>763.0</td>\n",
       "      <td>424.0</td>\n",
       "      <td>513.0</td>\n",
       "    </tr>\n",
       "    <tr>\n",
       "      <th>12</th>\n",
       "      <td>2017-03-25 09:07:08</td>\n",
       "      <td>23.8</td>\n",
       "      <td>768.0</td>\n",
       "      <td>422.0</td>\n",
       "      <td>517.0</td>\n",
       "    </tr>\n",
       "    <tr>\n",
       "      <th>13</th>\n",
       "      <td>2017-03-25 09:07:14</td>\n",
       "      <td>23.9</td>\n",
       "      <td>787.0</td>\n",
       "      <td>438.0</td>\n",
       "      <td>511.0</td>\n",
       "    </tr>\n",
       "    <tr>\n",
       "      <th>14</th>\n",
       "      <td>2017-03-25 09:07:20</td>\n",
       "      <td>23.8</td>\n",
       "      <td>758.0</td>\n",
       "      <td>435.0</td>\n",
       "      <td>521.0</td>\n",
       "    </tr>\n",
       "    <tr>\n",
       "      <th>15</th>\n",
       "      <td>2017-03-25 09:07:26</td>\n",
       "      <td>23.8</td>\n",
       "      <td>768.0</td>\n",
       "      <td>417.0</td>\n",
       "      <td>503.0</td>\n",
       "    </tr>\n",
       "    <tr>\n",
       "      <th>16</th>\n",
       "      <td>2017-03-25 09:07:31</td>\n",
       "      <td>23.9</td>\n",
       "      <td>763.0</td>\n",
       "      <td>413.0</td>\n",
       "      <td>525.0</td>\n",
       "    </tr>\n",
       "    <tr>\n",
       "      <th>17</th>\n",
       "      <td>2017-03-25 09:07:37</td>\n",
       "      <td>23.9</td>\n",
       "      <td>774.0</td>\n",
       "      <td>409.0</td>\n",
       "      <td>507.0</td>\n",
       "    </tr>\n",
       "    <tr>\n",
       "      <th>18</th>\n",
       "      <td>2017-03-25 09:07:43</td>\n",
       "      <td>23.9</td>\n",
       "      <td>768.0</td>\n",
       "      <td>418.0</td>\n",
       "      <td>503.0</td>\n",
       "    </tr>\n",
       "    <tr>\n",
       "      <th>19</th>\n",
       "      <td>2017-03-25 09:07:49</td>\n",
       "      <td>23.9</td>\n",
       "      <td>763.0</td>\n",
       "      <td>425.0</td>\n",
       "      <td>501.0</td>\n",
       "    </tr>\n",
       "  </tbody>\n",
       "</table>\n",
       "</div>"
      ],
      "text/plain": [
       "               datetime  temperature    co2  light  noise\n",
       "0   2017-03-25 09:05:58         22.6  781.0  430.0  511.0\n",
       "1   2017-03-25 09:06:04         23.8  767.0  448.0  510.0\n",
       "2   2017-03-25 09:06:10         23.8  754.0  423.0  511.0\n",
       "3   2017-03-25 09:06:15         23.8  768.0  412.0  492.0\n",
       "4   2017-03-25 09:06:21         23.8  758.0  428.0  491.0\n",
       "5   2017-03-25 09:06:27         23.8  776.0  419.0  500.0\n",
       "6   2017-03-25 09:06:33         23.8  755.0  423.0  503.0\n",
       "7   2017-03-25 09:06:38         23.8  755.0  409.0  501.0\n",
       "8   2017-03-25 09:06:44         23.8  766.0  447.0  506.0\n",
       "9   2017-03-25 09:06:50         23.8  771.0  423.0  515.0\n",
       "10  2017-03-25 09:06:56         23.8  789.0  437.0  491.0\n",
       "11  2017-03-25 09:07:03         23.8  763.0  424.0  513.0\n",
       "12  2017-03-25 09:07:08         23.8  768.0  422.0  517.0\n",
       "13  2017-03-25 09:07:14         23.9  787.0  438.0  511.0\n",
       "14  2017-03-25 09:07:20         23.8  758.0  435.0  521.0\n",
       "15  2017-03-25 09:07:26         23.8  768.0  417.0  503.0\n",
       "16  2017-03-25 09:07:31         23.9  763.0  413.0  525.0\n",
       "17  2017-03-25 09:07:37         23.9  774.0  409.0  507.0\n",
       "18  2017-03-25 09:07:43         23.9  768.0  418.0  503.0\n",
       "19  2017-03-25 09:07:49         23.9  763.0  425.0  501.0"
      ]
     },
     "execution_count": 56,
     "metadata": {},
     "output_type": "execute_result"
    }
   ],
   "source": [
    "# Head\n",
    "\n",
    "dataset.head(20)"
   ]
  },
  {
   "cell_type": "code",
   "execution_count": 57,
   "metadata": {
    "collapsed": false
   },
   "outputs": [
    {
     "name": "stdout",
     "output_type": "stream",
     "text": [
      "        temperature           co2         light         noise\n",
      "count  37989.000000  37989.000000  3.798900e+04  37989.000000\n",
      "mean      23.024386   1192.690779  3.057904e+03    315.193977\n",
      "std        7.552849    162.518301  1.520886e+05    177.548181\n",
      "min     -999.000000      2.000000  0.000000e+00      0.000000\n",
      "25%       22.300000   1083.000000  1.810000e+02    144.000000\n",
      "50%       22.900000   1230.000000  2.210000e+02    216.000000\n",
      "75%       23.200000   1301.000000  4.530000e+02    502.000000\n",
      "max       29.400000   2001.000000  1.000000e+07   1023.000000\n"
     ]
    }
   ],
   "source": [
    "# Descriptions\n",
    "\n",
    "print(dataset.describe())"
   ]
  },
  {
   "cell_type": "code",
   "execution_count": 58,
   "metadata": {
    "collapsed": false,
    "scrolled": true
   },
   "outputs": [
    {
     "name": "stdout",
     "output_type": "stream",
     "text": [
      "        temperature           co2         light         noise\n",
      "count  37948.000000  37948.000000  3.794800e+04  37948.000000\n",
      "mean      23.078610   1193.612944  3.060948e+03    315.225677\n",
      "std        1.431952    159.206317  1.521707e+05    177.527693\n",
      "min       21.000000    629.000000  1.000000e+00     33.000000\n",
      "25%       22.300000   1083.000000  1.810000e+02    144.000000\n",
      "50%       22.900000   1230.000000  2.210000e+02    216.000000\n",
      "75%       23.200000   1301.000000  4.530000e+02    502.000000\n",
      "max       29.400000   2001.000000  1.000000e+07   1023.000000\n"
     ]
    }
   ],
   "source": [
    "# Eliminate Outliers\n",
    "\n",
    "dataset = dataset [dataset.temperature > 0]\n",
    "dataset = dataset [dataset.light > 0]\n",
    "dataset = dataset [dataset.noise > 0]\n",
    "dataset = dataset [dataset.co2 != 2]\n",
    "print(dataset.describe())"
   ]
  },
  {
   "cell_type": "code",
   "execution_count": 59,
   "metadata": {
    "collapsed": true
   },
   "outputs": [],
   "source": [
    "# Create copy of temperature data\n",
    "\n",
    "temp_data = df[['temperature']].copy()"
   ]
  },
  {
   "cell_type": "code",
   "execution_count": 60,
   "metadata": {
    "collapsed": false
   },
   "outputs": [
    {
     "name": "stdout",
     "output_type": "stream",
     "text": [
      "<class 'pandas.core.frame.DataFrame'>\n",
      "DatetimeIndex: 37989 entries, 2017-03-25 09:05:58 to 2017-05-13 16:13:20\n",
      "Data columns (total 1 columns):\n",
      "temperature    37989 non-null float64\n",
      "dtypes: float64(1)\n",
      "memory usage: 593.6 KB\n"
     ]
    }
   ],
   "source": [
    "temp_data.info()"
   ]
  },
  {
   "cell_type": "code",
   "execution_count": 61,
   "metadata": {
    "collapsed": true
   },
   "outputs": [],
   "source": [
    "# Delete the 2 -999 error values\n",
    "temp_data = temp_data[temp_data['temperature'] != -999]"
   ]
  },
  {
   "cell_type": "code",
   "execution_count": 62,
   "metadata": {
    "collapsed": false
   },
   "outputs": [
    {
     "name": "stdout",
     "output_type": "stream",
     "text": [
      "<class 'pandas.core.frame.DataFrame'>\n",
      "PeriodIndex: 37987 entries, 2017-03-25 to 2017-05-13\n",
      "Freq: D\n",
      "Data columns (total 1 columns):\n",
      "temperature    37987 non-null float64\n",
      "dtypes: float64(1)\n",
      "memory usage: 593.5 KB\n"
     ]
    }
   ],
   "source": [
    "# Convert dataframe to PeriodIndex of temperature data\n",
    "\n",
    "temp_period = temp_data.to_period(freq='D')\n",
    "temp_period.info()"
   ]
  },
  {
   "cell_type": "code",
   "execution_count": 63,
   "metadata": {
    "collapsed": false
   },
   "outputs": [
    {
     "data": {
      "image/png": "[encoded data removed]",
      "text/plain": [
       "<matplotlib.figure.Figure at 0x105909da0>"
      ]
     },
     "metadata": {},
     "output_type": "display_data"
    }
   ],
   "source": [
    "# Box-and-whisker plots for daily temperature\n",
    "\n",
    "fig, ax = plt.subplots(figsize=(16,10))\n",
    "\n",
    "sns.boxplot(x=temp_period.index, y='temperature', data=temp_period, ax=ax)\n",
    "ax.set_title('Daily Temperature Data', fontsize=24)\n",
    "ax.set_xlabel('Date', fontsize=16)\n",
    "ax.set_ylabel('Temperature (Celcius)')\n",
    "plt.show()"
   ]
  },
  {
   "cell_type": "code",
   "execution_count": 64,
   "metadata": {
    "collapsed": false
   },
   "outputs": [
    {
     "name": "stdout",
     "output_type": "stream",
     "text": [
      "            temperature\n",
      "datetime               \n",
      "2017-03-25         22.6\n",
      "2017-03-25         23.8\n",
      "2017-03-25         23.8\n",
      "2017-03-25         23.8\n",
      "2017-03-25         23.8\n",
      "Min: 20.700000, Max: 29.400000\n",
      "[ 0.2183908]\n",
      "[ 0.35632184]\n",
      "[ 0.35632184]\n",
      "[ 0.35632184]\n",
      "[ 0.35632184]\n",
      "[ 22.6]\n",
      "[ 23.8]\n",
      "[ 23.8]\n",
      "[ 23.8]\n",
      "[ 23.8]\n"
     ]
    }
   ],
   "source": [
    "# Normalize time series data\n",
    "\n",
    "from sklearn.preprocessing import MinMaxScaler\n",
    "\n",
    "# load the dataset and print the first 5 rows\n",
    "\n",
    "series = temp_period\n",
    "print(series.head())\n",
    "\n",
    "# prepare data for normalization\n",
    "\n",
    "values = series.values\n",
    "values = values.reshape((len(values), 1))\n",
    "\n",
    "# train the normalization\n",
    "\n",
    "scaler = MinMaxScaler(feature_range=(0, 1))\n",
    "scaler = scaler.fit(values)\n",
    "print('Min: %f, Max: %f' % (scaler.data_min_, scaler.data_max_))\n",
    "\n",
    "# normalize the dataset and print the first 5 rows\n",
    "\n",
    "normalized = scaler.transform(values)\n",
    "for i in range(5):\n",
    "    print(normalized[i])\n",
    "    \n",
    "# inverse transform and print the first 5 rows\n",
    "\n",
    "inversed = scaler.inverse_transform(normalized)\n",
    "for i in range(5):\n",
    "    print(inversed[i])"
   ]
  },
  {
   "cell_type": "code",
   "execution_count": 65,
   "metadata": {
    "collapsed": false
   },
   "outputs": [
    {
     "data": {
      "image/png": "[encoded data removed]",
      "text/plain": [
       "<matplotlib.figure.Figure at 0x110b1b0f0>"
      ]
     },
     "metadata": {},
     "output_type": "display_data"
    }
   ],
   "source": [
    "# Plotting the results\n",
    "\n",
    "series.hist()\n",
    "plt.show()"
   ]
  },
  {
   "cell_type": "code",
   "execution_count": 66,
   "metadata": {
    "collapsed": false
   },
   "outputs": [
    {
     "data": {
      "image/png": "[encoded data removed]",
      "text/plain": [
       "<matplotlib.figure.Figure at 0x1167d5630>"
      ]
     },
     "metadata": {},
     "output_type": "display_data"
    }
   ],
   "source": [
    "# Lag Plot\n",
    "\n",
    "from pandas.tools.plotting import lag_plot\n",
    "lag_plot(series)\n",
    "plt.show()"
   ]
  },
  {
   "cell_type": "code",
   "execution_count": 67,
   "metadata": {
    "collapsed": false
   },
   "outputs": [
    {
     "data": {
      "image/png": "[encoded data removed]",
      "text/plain": [
       "<matplotlib.figure.Figure at 0x110b937f0>"
      ]
     },
     "metadata": {},
     "output_type": "display_data"
    }
   ],
   "source": [
    "# Autocorrelation plot\n",
    "\n",
    "from pandas.tools.plotting import autocorrelation_plot\n",
    "autocorrelation_plot(series)\n",
    "plt.show()"
   ]
  },
  {
   "cell_type": "code",
   "execution_count": 68,
   "metadata": {
    "collapsed": false
   },
   "outputs": [
    {
     "data": {
      "text/plain": [
       "<matplotlib.axes._subplots.AxesSubplot at 0x11165e6a0>"
      ]
     },
     "execution_count": 68,
     "metadata": {},
     "output_type": "execute_result"
    },
    {
     "data": {
      "image/png": "[encoded data removed]",
      "text/plain": [
       "<matplotlib.figure.Figure at 0x1114ec1d0>"
      ]
     },
     "metadata": {},
     "output_type": "display_data"
    }
   ],
   "source": [
    "%matplotlib inline\n",
    "series.plot()"
   ]
  },
  {
   "cell_type": "code",
   "execution_count": 69,
   "metadata": {
    "collapsed": false
   },
   "outputs": [
    {
     "data": {
      "text/plain": [
       "<matplotlib.axes._subplots.AxesSubplot at 0x11083ad68>"
      ]
     },
     "execution_count": 69,
     "metadata": {},
     "output_type": "execute_result"
    },
    {
     "data": {
      "image/png": "[encoded data removed]",
      "text/plain": [
       "<matplotlib.figure.Figure at 0x1114ecb70>"
      ]
     },
     "metadata": {},
     "output_type": "display_data"
    }
   ],
   "source": [
    "norma = pd.DataFrame(normalized)\n",
    "norma.plot()"
   ]
  },
  {
   "cell_type": "code",
   "execution_count": 70,
   "metadata": {
    "collapsed": false
   },
   "outputs": [
    {
     "name": "stdout",
     "output_type": "stream",
     "text": [
      "[ 24.67034856]\n"
     ]
    }
   ],
   "source": [
    "# Linear Regression Before Normalization\n",
    "\n",
    "from sklearn.linear_model import LinearRegression\n",
    "estimator = LinearRegression()\n",
    "\n",
    "sen = pd.read_csv('dataset2.csv')\n",
    "sen.datetime = pd.to_datetime(sen.datetime)\n",
    "#sen.set_index('datetime')\n",
    "\n",
    "sen = sen[['datetime', 'temperature', 'count_total']]\n",
    "\n",
    "X = sen[['temperature']]\n",
    "Y = sen['count_total']\n",
    "model = estimator.fit(X, Y)\n",
    "\n",
    "# Put a random number to try the model\n",
    "\n",
    "print(model.predict([[24]]))"
   ]
  },
  {
   "cell_type": "code",
   "execution_count": 71,
   "metadata": {
    "collapsed": false
   },
   "outputs": [
    {
     "name": "stdout",
     "output_type": "stream",
     "text": [
      "[ 16.6]\n"
     ]
    }
   ],
   "source": [
    "# K-Nearest Neighbour Regression Before Normalization\n",
    "\n",
    "from sklearn.neighbors import KNeighborsRegressor\n",
    "estimator = KNeighborsRegressor()\n",
    "\n",
    "sen = sen[['datetime', 'temperature', 'count_total']]\n",
    "\n",
    "X = sen[['temperature']]\n",
    "Y = sen['count_total']\n",
    "model=estimator.fit(X, Y)\n",
    "\n",
    "# Put a random number to try the model\n",
    "\n",
    "print(model.predict([[24]]))"
   ]
  },
  {
   "cell_type": "code",
   "execution_count": 72,
   "metadata": {
    "collapsed": false
   },
   "outputs": [
    {
     "name": "stdout",
     "output_type": "stream",
     "text": [
      "[ 13.68763602]\n"
     ]
    }
   ],
   "source": [
    "# Random Forest Regression Before Normalization\n",
    "\n",
    "from sklearn.ensemble import RandomForestRegressor\n",
    "estimator = RandomForestRegressor()\n",
    "\n",
    "sen = sen[['datetime', 'temperature', 'count_total']]\n",
    "\n",
    "X = sen[['temperature']]\n",
    "Y = sen['count_total']\n",
    "model = estimator.fit(X, Y) \n",
    "\n",
    "# Put a random number to try the model\n",
    "\n",
    "print(model.predict([[24]]))"
   ]
  },
  {
   "cell_type": "code",
   "execution_count": 73,
   "metadata": {
    "collapsed": false
   },
   "outputs": [
    {
     "name": "stdout",
     "output_type": "stream",
     "text": [
      "             precision    recall  f1-score   support\n",
      "\n",
      "        0.0       0.00      0.00      0.00       396\n",
      "        1.0       0.00      0.00      0.00         1\n",
      "        2.0       0.00      0.00      0.00         2\n",
      "        3.0       0.00      0.00      0.00         2\n",
      "        4.0       0.00      0.00      0.00        19\n",
      "        5.0       0.00      0.00      0.00         2\n",
      "        6.0       0.00      0.00      0.00         5\n",
      "        7.0       0.00      0.00      0.00         6\n",
      "        8.0       0.00      0.00      0.00        11\n",
      "        9.0       0.00      0.00      0.00        27\n",
      "       10.0       0.00      0.00      0.00         5\n",
      "       11.0       0.00      0.00      0.00        12\n",
      "       12.0       0.00      0.00      0.00        24\n",
      "       13.0       0.00      0.00      0.00        20\n",
      "       14.0       0.00      0.00      0.00        49\n",
      "       15.0       0.00      0.00      0.00        30\n",
      "       16.0       0.00      0.00      0.00        35\n",
      "       17.0       0.00      0.00      0.00        45\n",
      "       18.0       0.00      0.00      0.00        11\n",
      "       19.0       0.00      0.00      0.00        16\n",
      "       20.0       0.00      0.00      0.00        15\n",
      "       21.0       0.00      0.00      0.00        19\n",
      "       22.0       0.00      0.00      0.00        18\n",
      "       23.0       0.00      0.00      0.00        38\n",
      "       24.0       0.00      0.00      0.00        34\n",
      "       25.0       0.00      0.00      0.00        38\n",
      "       26.0       0.00      0.00      0.00        49\n",
      "       27.0       0.00      0.00      0.00       103\n",
      "       28.0       0.00      0.00      0.00       282\n",
      "       29.0       0.00      0.00      0.00       445\n",
      "       30.0       0.00      0.00      0.00       449\n",
      "       31.0       0.39      1.00      0.56      1385\n",
      "\n",
      "avg / total       0.15      0.39      0.21      3593\n",
      "\n"
     ]
    },
    {
     "name": "stderr",
     "output_type": "stream",
     "text": [
      "/Users/svetlanazolotareva/anaconda/lib/python3.6/site-packages/sklearn/metrics/classification.py:1113: UndefinedMetricWarning: Precision and F-score are ill-defined and being set to 0.0 in labels with no predicted samples.\n",
      "  'precision', 'predicted', average, warn_for)\n"
     ]
    }
   ],
   "source": [
    "# Linear Regression Classification\n",
    "\n",
    "from sklearn.linear_model import LogisticRegression\n",
    "from sklearn.metrics import classification_report\n",
    "from sklearn.model_selection import train_test_split\n",
    "\n",
    "X = sen[['temperature']]\n",
    "y = sen['count_total']\n",
    "\n",
    "X_train, X_test, y_train, y_test = train_test_split( X, y, test_size = 0.2)\n",
    "\n",
    "model = LogisticRegression()\n",
    "model.fit(X_train, y_train)\n",
    "\n",
    "expected   = y_test\n",
    "predicted  = model.predict(X_test)\n",
    "\n",
    "print(classification_report(expected, predicted))"
   ]
  },
  {
   "cell_type": "code",
   "execution_count": 74,
   "metadata": {
    "collapsed": false
   },
   "outputs": [
    {
     "name": "stdout",
     "output_type": "stream",
     "text": [
      "             precision    recall  f1-score   support\n",
      "\n",
      "        0.0       0.00      0.00      0.00       272\n",
      "       14.0       0.00      0.00      0.00        45\n",
      "       24.0       0.00      0.00      0.00        17\n",
      "       27.0       0.00      0.00      0.00        54\n",
      "       28.0       0.00      0.00      0.00       276\n",
      "       29.0       0.00      0.00      0.00       715\n",
      "       30.0       0.00      0.00      0.00       365\n",
      "       31.0       0.51      1.00      0.68      1849\n",
      "\n",
      "avg / total       0.26      0.51      0.35      3593\n",
      "\n"
     ]
    },
    {
     "name": "stderr",
     "output_type": "stream",
     "text": [
      "/Users/svetlanazolotareva/anaconda/lib/python3.6/site-packages/sklearn/metrics/classification.py:1113: UndefinedMetricWarning: Precision and F-score are ill-defined and being set to 0.0 in labels with no predicted samples.\n",
      "  'precision', 'predicted', average, warn_for)\n"
     ]
    }
   ],
   "source": [
    "# K-Nearest Neighbour Classification\n",
    "\n",
    "from sklearn.neighbors import KNeighborsClassifier\n",
    "\n",
    "X = sen[['temperature']]\n",
    "y = sen['count_total']\n",
    "\n",
    "X_train, X_test, y_train, y_test = train_test_split( X, y, test_size = 0.2)\n",
    "\n",
    "model = KNeighborsClassifier(20)\n",
    "model.fit(X_train, y_train)\n",
    "\n",
    "expected = model.predict(X_test)\n",
    "\n",
    "print(classification_report(expected, predicted))\n"
   ]
  },
  {
   "cell_type": "code",
   "execution_count": 75,
   "metadata": {
    "collapsed": false
   },
   "outputs": [
    {
     "name": "stdout",
     "output_type": "stream",
     "text": [
      "             precision    recall  f1-score   support\n",
      "\n",
      "        0.0       0.10      0.08      0.09       272\n",
      "        4.0       0.00      0.00      0.00         0\n",
      "       14.0       0.00      0.00      0.00        45\n",
      "       24.0       0.00      0.00      0.00        17\n",
      "       27.0       0.00      0.00      0.00        54\n",
      "       28.0       0.00      0.00      0.00       276\n",
      "       29.0       0.22      0.24      0.23       715\n",
      "       30.0       0.11      0.12      0.11       365\n",
      "       31.0       0.51      0.61      0.55      1849\n",
      "\n",
      "avg / total       0.32      0.38      0.35      3593\n",
      "\n"
     ]
    },
    {
     "name": "stderr",
     "output_type": "stream",
     "text": [
      "/Users/svetlanazolotareva/anaconda/lib/python3.6/site-packages/sklearn/metrics/classification.py:1113: UndefinedMetricWarning: Precision and F-score are ill-defined and being set to 0.0 in labels with no predicted samples.\n",
      "  'precision', 'predicted', average, warn_for)\n",
      "/Users/svetlanazolotareva/anaconda/lib/python3.6/site-packages/sklearn/metrics/classification.py:1115: UndefinedMetricWarning: Recall and F-score are ill-defined and being set to 0.0 in labels with no true samples.\n",
      "  'recall', 'true', average, warn_for)\n"
     ]
    }
   ],
   "source": [
    "# Random Forest Classification\n",
    "\n",
    "from sklearn.ensemble import RandomForestClassifier\n",
    "\n",
    "X = sen[['temperature']]\n",
    "y = sen['count_total']\n",
    "\n",
    "X_train, X_test, y_train, y_test = train_test_split( X, y, test_size = 0.2)\n",
    "\n",
    "model = RandomForestClassifier()\n",
    "model.fit(X_train, y_train)\n",
    "\n",
    "expested = y_test\n",
    "predicted = model.predict(X_test)\n",
    "\n",
    "print(classification_report(expected, predicted))"
   ]
  },
  {
   "cell_type": "code",
   "execution_count": null,
   "metadata": {
    "collapsed": true
   },
   "outputs": [],
   "source": []
  },
  {
   "cell_type": "code",
   "execution_count": null,
   "metadata": {
    "collapsed": true
   },
   "outputs": [],
   "source": []
  }
 ],
 "metadata": {
  "kernelspec": {
   "display_name": "Python 3",
   "language": "python",
   "name": "python3"
  },
  "language_info": {
   "codemirror_mode": {
    "name": "ipython",
    "version": 3
   },
   "file_extension": ".py",
   "mimetype": "text/x-python",
   "name": "python",
   "nbconvert_exporter": "python",
   "pygments_lexer": "ipython3",
   "version": "3.6.0"
  }
 },
 "nbformat": 4,
 "nbformat_minor": 2
}
